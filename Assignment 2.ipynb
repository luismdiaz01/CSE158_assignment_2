{
 "cells": [
  {
   "cell_type": "markdown",
   "metadata": {},
   "source": [
    "# Assignment 2"
   ]
  },
  {
   "cell_type": "markdown",
   "metadata": {},
   "source": [
    "### Imports and reading dataset"
   ]
  },
  {
   "cell_type": "code",
   "execution_count": 1,
   "metadata": {},
   "outputs": [],
   "source": [
    "import pandas as pd\n",
    "import numpy as np\n",
    "import gzip\n",
    "import random\n",
    "from collections import defaultdict\n",
    "\n",
    "\n",
    "%matplotlib inline\n",
    "import matplotlib.pyplot as plt\n",
    "plt.style.use('seaborn-white')\n",
    "\n",
    "import seaborn as sns\n",
    "from sklearn.preprocessing import OneHotEncoder \n",
    "from sklearn.linear_model import LogisticRegression\n",
    "from sklearn import svm\n",
    "\n",
    "from sklearn.metrics import roc_auc_score\n",
    "from sklearn.preprocessing import label_binarize"
   ]
  },
  {
   "cell_type": "code",
   "execution_count": 2,
   "metadata": {},
   "outputs": [],
   "source": [
    "def readGz(path):\n",
    "    for l in gzip.open(path, 'rt'):\n",
    "        yield eval(l)"
   ]
  },
  {
   "cell_type": "code",
   "execution_count": 3,
   "metadata": {},
   "outputs": [],
   "source": [
    "data = []\n",
    "\n",
    "for d in readGz('modcloth_final_data.json.gz'):\n",
    "    data.append(d)"
   ]
  },
  {
   "cell_type": "code",
   "execution_count": 48,
   "metadata": {},
   "outputs": [
    {
     "data": {
      "text/plain": [
       "(53813, 16558, 12419)"
      ]
     },
     "execution_count": 48,
     "metadata": {},
     "output_type": "execute_result"
    }
   ],
   "source": [
    "random.seed(1)\n",
    "random.shuffle(data)\n",
    "\n",
    "train_data = data[:int(0.65*len(data))]\n",
    "val_data = data[int(0.65*len(data)):int(0.85*len(data))]\n",
    "test_data = data[int(0.85*len(data)):]\n",
    "\n",
    "len(train_data), len(val_data), len(test_data)"
   ]
  },
  {
   "cell_type": "code",
   "execution_count": 49,
   "metadata": {},
   "outputs": [
    {
     "data": {
      "text/html": [
       "<div>\n",
       "<style scoped>\n",
       "    .dataframe tbody tr th:only-of-type {\n",
       "        vertical-align: middle;\n",
       "    }\n",
       "\n",
       "    .dataframe tbody tr th {\n",
       "        vertical-align: top;\n",
       "    }\n",
       "\n",
       "    .dataframe thead th {\n",
       "        text-align: right;\n",
       "    }\n",
       "</style>\n",
       "<table border=\"1\" class=\"dataframe\">\n",
       "  <thead>\n",
       "    <tr style=\"text-align: right;\">\n",
       "      <th></th>\n",
       "      <th>bra size</th>\n",
       "      <th>bust</th>\n",
       "      <th>category</th>\n",
       "      <th>cup size</th>\n",
       "      <th>fit</th>\n",
       "      <th>height</th>\n",
       "      <th>hips</th>\n",
       "      <th>item_id</th>\n",
       "      <th>length</th>\n",
       "      <th>quality</th>\n",
       "      <th>review_summary</th>\n",
       "      <th>review_text</th>\n",
       "      <th>shoe size</th>\n",
       "      <th>shoe width</th>\n",
       "      <th>size</th>\n",
       "      <th>user_id</th>\n",
       "      <th>user_name</th>\n",
       "      <th>waist</th>\n",
       "    </tr>\n",
       "  </thead>\n",
       "  <tbody>\n",
       "    <tr>\n",
       "      <th>0</th>\n",
       "      <td>34.0</td>\n",
       "      <td>36</td>\n",
       "      <td>new</td>\n",
       "      <td>d</td>\n",
       "      <td>small</td>\n",
       "      <td>5ft 6in</td>\n",
       "      <td>38.0</td>\n",
       "      <td>123373</td>\n",
       "      <td>just right</td>\n",
       "      <td>5.0</td>\n",
       "      <td>NaN</td>\n",
       "      <td>NaN</td>\n",
       "      <td>NaN</td>\n",
       "      <td>NaN</td>\n",
       "      <td>7</td>\n",
       "      <td>991571</td>\n",
       "      <td>Emily</td>\n",
       "      <td>29.0</td>\n",
       "    </tr>\n",
       "    <tr>\n",
       "      <th>1</th>\n",
       "      <td>36.0</td>\n",
       "      <td>NaN</td>\n",
       "      <td>new</td>\n",
       "      <td>b</td>\n",
       "      <td>small</td>\n",
       "      <td>5ft 2in</td>\n",
       "      <td>30.0</td>\n",
       "      <td>123373</td>\n",
       "      <td>just right</td>\n",
       "      <td>3.0</td>\n",
       "      <td>NaN</td>\n",
       "      <td>NaN</td>\n",
       "      <td>NaN</td>\n",
       "      <td>NaN</td>\n",
       "      <td>13</td>\n",
       "      <td>587883</td>\n",
       "      <td>sydneybraden2001</td>\n",
       "      <td>31.0</td>\n",
       "    </tr>\n",
       "    <tr>\n",
       "      <th>2</th>\n",
       "      <td>32.0</td>\n",
       "      <td>NaN</td>\n",
       "      <td>new</td>\n",
       "      <td>b</td>\n",
       "      <td>small</td>\n",
       "      <td>5ft 7in</td>\n",
       "      <td>NaN</td>\n",
       "      <td>123373</td>\n",
       "      <td>slightly long</td>\n",
       "      <td>2.0</td>\n",
       "      <td>NaN</td>\n",
       "      <td>NaN</td>\n",
       "      <td>9.0</td>\n",
       "      <td>NaN</td>\n",
       "      <td>7</td>\n",
       "      <td>395665</td>\n",
       "      <td>Ugggh</td>\n",
       "      <td>30.0</td>\n",
       "    </tr>\n",
       "    <tr>\n",
       "      <th>3</th>\n",
       "      <td>NaN</td>\n",
       "      <td>NaN</td>\n",
       "      <td>new</td>\n",
       "      <td>dd/e</td>\n",
       "      <td>fit</td>\n",
       "      <td>NaN</td>\n",
       "      <td>NaN</td>\n",
       "      <td>123373</td>\n",
       "      <td>just right</td>\n",
       "      <td>5.0</td>\n",
       "      <td>NaN</td>\n",
       "      <td>NaN</td>\n",
       "      <td>NaN</td>\n",
       "      <td>NaN</td>\n",
       "      <td>21</td>\n",
       "      <td>875643</td>\n",
       "      <td>alexmeyer626</td>\n",
       "      <td>NaN</td>\n",
       "    </tr>\n",
       "    <tr>\n",
       "      <th>4</th>\n",
       "      <td>36.0</td>\n",
       "      <td>NaN</td>\n",
       "      <td>new</td>\n",
       "      <td>b</td>\n",
       "      <td>small</td>\n",
       "      <td>5ft 2in</td>\n",
       "      <td>NaN</td>\n",
       "      <td>123373</td>\n",
       "      <td>slightly long</td>\n",
       "      <td>5.0</td>\n",
       "      <td>NaN</td>\n",
       "      <td>NaN</td>\n",
       "      <td>NaN</td>\n",
       "      <td>NaN</td>\n",
       "      <td>18</td>\n",
       "      <td>944840</td>\n",
       "      <td>dberrones1</td>\n",
       "      <td>NaN</td>\n",
       "    </tr>\n",
       "  </tbody>\n",
       "</table>\n",
       "</div>"
      ],
      "text/plain": [
       "   bra size bust category cup size    fit   height  hips  item_id  \\\n",
       "0      34.0   36      new        d  small  5ft 6in  38.0   123373   \n",
       "1      36.0  NaN      new        b  small  5ft 2in  30.0   123373   \n",
       "2      32.0  NaN      new        b  small  5ft 7in   NaN   123373   \n",
       "3       NaN  NaN      new     dd/e    fit      NaN   NaN   123373   \n",
       "4      36.0  NaN      new        b  small  5ft 2in   NaN   123373   \n",
       "\n",
       "          length  quality review_summary review_text  shoe size shoe width  \\\n",
       "0     just right      5.0            NaN         NaN        NaN        NaN   \n",
       "1     just right      3.0            NaN         NaN        NaN        NaN   \n",
       "2  slightly long      2.0            NaN         NaN        9.0        NaN   \n",
       "3     just right      5.0            NaN         NaN        NaN        NaN   \n",
       "4  slightly long      5.0            NaN         NaN        NaN        NaN   \n",
       "\n",
       "   size  user_id         user_name  waist  \n",
       "0     7   991571             Emily   29.0  \n",
       "1    13   587883  sydneybraden2001   31.0  \n",
       "2     7   395665             Ugggh   30.0  \n",
       "3    21   875643      alexmeyer626    NaN  \n",
       "4    18   944840        dberrones1    NaN  "
      ]
     },
     "execution_count": 49,
     "metadata": {},
     "output_type": "execute_result"
    }
   ],
   "source": [
    "modcloth = pd.read_json('modcloth_final_data.json', lines=True)\n",
    "modcloth.head()"
   ]
  },
  {
   "cell_type": "markdown",
   "metadata": {},
   "source": [
    "### EDA\n",
    "1. Describe the dataset,\n",
    "including its basic statistics and properties, and report any interesting findings. This exploratory analysis\n",
    "should motivate the design of your model in the following sections. "
   ]
  },
  {
   "cell_type": "code",
   "execution_count": 50,
   "metadata": {},
   "outputs": [
    {
     "name": "stdout",
     "output_type": "stream",
     "text": [
      "Number of entries:  82790\n",
      "Unique users:  47958\n",
      "Unique items:  1378\n"
     ]
    }
   ],
   "source": [
    "print('Number of entries: ',len(modcloth))\n",
    "print('Unique users: ',modcloth['user_id'].nunique())\n",
    "print('Unique items: ',modcloth['item_id'].nunique())"
   ]
  },
  {
   "cell_type": "code",
   "execution_count": 51,
   "metadata": {},
   "outputs": [
    {
     "name": "stdout",
     "output_type": "stream",
     "text": [
      "Number of null values in  bra size :  6018\n",
      "Number of null values in  bust :  70936\n",
      "Number of null values in  category :  0\n",
      "Number of null values in  cup size :  6255\n",
      "Number of null values in  fit :  0\n",
      "Number of null values in  height :  1107\n",
      "Number of null values in  hips :  26726\n",
      "Number of null values in  item_id :  0\n",
      "Number of null values in  length :  35\n",
      "Number of null values in  quality :  68\n",
      "Number of null values in  review_summary :  6725\n",
      "Number of null values in  review_text :  6725\n",
      "Number of null values in  shoe size :  54875\n",
      "Number of null values in  shoe width :  64183\n",
      "Number of null values in  size :  0\n",
      "Number of null values in  user_id :  0\n",
      "Number of null values in  user_name :  0\n",
      "Number of null values in  waist :  79908\n"
     ]
    }
   ],
   "source": [
    "for i in modcloth.columns:\n",
    "    print('Number of null values in ', i,': ', len(modcloth[modcloth[i].isna()]))"
   ]
  },
  {
   "cell_type": "code",
   "execution_count": 52,
   "metadata": {},
   "outputs": [
    {
     "name": "stdout",
     "output_type": "stream",
     "text": [
      "Bra size - Mean:  35.972125253998854 ||| Median  36.0\n",
      "Hips - Mean:  40.358500998858446 ||| Median  39.0\n",
      "Quality - Mean:  3.9490582916273786 ||| Median  4.0\n",
      "Shoe size - Mean:  8.145817660755865 ||| Median  8.0\n",
      "Size - Mean:  12.661601642710473 ||| Median  12.0\n"
     ]
    }
   ],
   "source": [
    "print(\"Bra size - Mean: \",modcloth['bra size'].mean(),\"||| Median \", modcloth['bra size'].median())\n",
    "print(\"Hips - Mean: \",modcloth['hips'].mean(),\"||| Median \", modcloth['hips'].median())\n",
    "print(\"Quality - Mean: \",modcloth['quality'].mean(),\"||| Median \", modcloth['quality'].median())\n",
    "print(\"Shoe size - Mean: \",modcloth['shoe size'].mean(),\"||| Median \", modcloth['shoe size'].median())\n",
    "print(\"Size - Mean: \",modcloth['size'].mean(),\"||| Median \", modcloth['size'].median())"
   ]
  },
  {
   "cell_type": "code",
   "execution_count": 53,
   "metadata": {},
   "outputs": [
    {
     "data": {
      "text/html": [
       "<div>\n",
       "<style scoped>\n",
       "    .dataframe tbody tr th:only-of-type {\n",
       "        vertical-align: middle;\n",
       "    }\n",
       "\n",
       "    .dataframe tbody tr th {\n",
       "        vertical-align: top;\n",
       "    }\n",
       "\n",
       "    .dataframe thead th {\n",
       "        text-align: right;\n",
       "    }\n",
       "</style>\n",
       "<table border=\"1\" class=\"dataframe\">\n",
       "  <thead>\n",
       "    <tr style=\"text-align: right;\">\n",
       "      <th></th>\n",
       "      <th>bra size</th>\n",
       "      <th>hips</th>\n",
       "      <th>item_id</th>\n",
       "      <th>quality</th>\n",
       "      <th>shoe size</th>\n",
       "      <th>size</th>\n",
       "      <th>user_id</th>\n",
       "      <th>waist</th>\n",
       "    </tr>\n",
       "  </thead>\n",
       "  <tbody>\n",
       "    <tr>\n",
       "      <th>count</th>\n",
       "      <td>76772.000000</td>\n",
       "      <td>56064.000000</td>\n",
       "      <td>82790.000000</td>\n",
       "      <td>82722.000000</td>\n",
       "      <td>27915.000000</td>\n",
       "      <td>82790.000000</td>\n",
       "      <td>82790.000000</td>\n",
       "      <td>2882.000000</td>\n",
       "    </tr>\n",
       "    <tr>\n",
       "      <th>mean</th>\n",
       "      <td>35.972125</td>\n",
       "      <td>40.358501</td>\n",
       "      <td>469325.229170</td>\n",
       "      <td>3.949058</td>\n",
       "      <td>8.145818</td>\n",
       "      <td>12.661602</td>\n",
       "      <td>498849.564718</td>\n",
       "      <td>31.319223</td>\n",
       "    </tr>\n",
       "    <tr>\n",
       "      <th>std</th>\n",
       "      <td>3.224907</td>\n",
       "      <td>5.827166</td>\n",
       "      <td>213999.803314</td>\n",
       "      <td>0.992783</td>\n",
       "      <td>1.336109</td>\n",
       "      <td>8.271952</td>\n",
       "      <td>286356.969459</td>\n",
       "      <td>5.302849</td>\n",
       "    </tr>\n",
       "    <tr>\n",
       "      <th>min</th>\n",
       "      <td>28.000000</td>\n",
       "      <td>30.000000</td>\n",
       "      <td>123373.000000</td>\n",
       "      <td>1.000000</td>\n",
       "      <td>5.000000</td>\n",
       "      <td>0.000000</td>\n",
       "      <td>6.000000</td>\n",
       "      <td>20.000000</td>\n",
       "    </tr>\n",
       "    <tr>\n",
       "      <th>25%</th>\n",
       "      <td>34.000000</td>\n",
       "      <td>36.000000</td>\n",
       "      <td>314980.000000</td>\n",
       "      <td>3.000000</td>\n",
       "      <td>7.000000</td>\n",
       "      <td>8.000000</td>\n",
       "      <td>252897.750000</td>\n",
       "      <td>28.000000</td>\n",
       "    </tr>\n",
       "    <tr>\n",
       "      <th>50%</th>\n",
       "      <td>36.000000</td>\n",
       "      <td>39.000000</td>\n",
       "      <td>454030.000000</td>\n",
       "      <td>4.000000</td>\n",
       "      <td>8.000000</td>\n",
       "      <td>12.000000</td>\n",
       "      <td>497913.500000</td>\n",
       "      <td>30.000000</td>\n",
       "    </tr>\n",
       "    <tr>\n",
       "      <th>75%</th>\n",
       "      <td>38.000000</td>\n",
       "      <td>43.000000</td>\n",
       "      <td>658440.000000</td>\n",
       "      <td>5.000000</td>\n",
       "      <td>9.000000</td>\n",
       "      <td>15.000000</td>\n",
       "      <td>744745.250000</td>\n",
       "      <td>34.000000</td>\n",
       "    </tr>\n",
       "    <tr>\n",
       "      <th>max</th>\n",
       "      <td>48.000000</td>\n",
       "      <td>60.000000</td>\n",
       "      <td>807722.000000</td>\n",
       "      <td>5.000000</td>\n",
       "      <td>38.000000</td>\n",
       "      <td>38.000000</td>\n",
       "      <td>999972.000000</td>\n",
       "      <td>50.000000</td>\n",
       "    </tr>\n",
       "  </tbody>\n",
       "</table>\n",
       "</div>"
      ],
      "text/plain": [
       "           bra size          hips        item_id       quality     shoe size  \\\n",
       "count  76772.000000  56064.000000   82790.000000  82722.000000  27915.000000   \n",
       "mean      35.972125     40.358501  469325.229170      3.949058      8.145818   \n",
       "std        3.224907      5.827166  213999.803314      0.992783      1.336109   \n",
       "min       28.000000     30.000000  123373.000000      1.000000      5.000000   \n",
       "25%       34.000000     36.000000  314980.000000      3.000000      7.000000   \n",
       "50%       36.000000     39.000000  454030.000000      4.000000      8.000000   \n",
       "75%       38.000000     43.000000  658440.000000      5.000000      9.000000   \n",
       "max       48.000000     60.000000  807722.000000      5.000000     38.000000   \n",
       "\n",
       "               size        user_id        waist  \n",
       "count  82790.000000   82790.000000  2882.000000  \n",
       "mean      12.661602  498849.564718    31.319223  \n",
       "std        8.271952  286356.969459     5.302849  \n",
       "min        0.000000       6.000000    20.000000  \n",
       "25%        8.000000  252897.750000    28.000000  \n",
       "50%       12.000000  497913.500000    30.000000  \n",
       "75%       15.000000  744745.250000    34.000000  \n",
       "max       38.000000  999972.000000    50.000000  "
      ]
     },
     "execution_count": 53,
     "metadata": {},
     "output_type": "execute_result"
    }
   ],
   "source": [
    "modcloth.describe()"
   ]
  },
  {
   "cell_type": "code",
   "execution_count": 54,
   "metadata": {},
   "outputs": [
    {
     "data": {
      "text/plain": [
       "539980    2008\n",
       "668696    1555\n",
       "397005    1506\n",
       "175771    1438\n",
       "407134    1437\n",
       "Name: item_id, dtype: int64"
      ]
     },
     "metadata": {},
     "output_type": "display_data"
    },
    {
     "data": {
      "text/plain": [
       "<matplotlib.axes._subplots.AxesSubplot at 0x7f7ad667bbe0>"
      ]
     },
     "execution_count": 54,
     "metadata": {},
     "output_type": "execute_result"
    },
    {
     "data": {
      "image/png": "[encoded data removed]",
      "text/plain": [
       "<Figure size 432x288 with 1 Axes>"
      ]
     },
     "metadata": {
      "needs_background": "light"
     },
     "output_type": "display_data"
    }
   ],
   "source": [
    "display(modcloth['item_id'].value_counts().head())\n",
    "modcloth['item_id'].value_counts()[:10].plot(kind = 'bar')"
   ]
  },
  {
   "cell_type": "code",
   "execution_count": 55,
   "metadata": {},
   "outputs": [
    {
     "name": "stdout",
     "output_type": "stream",
     "text": [
      "Review Summary - Mean:  22.029001087087813 ||| Median  25.0 ||| Max  60\n",
      "Empty summaries  6725\n",
      "Review Text - Mean:  194.50846720618432 ||| Median  142.0 ||| Max  2262\n",
      "Empty reviews  6725\n"
     ]
    }
   ],
   "source": [
    "text_sum = modcloth['review_summary'].fillna('').apply(len)\n",
    "text_rev = modcloth['review_text'].fillna('').apply(len)\n",
    "print(\"Review Summary - Mean: \",text_sum.mean(),\"||| Median \", text_sum.median(), \"||| Max \", max(text_sum))\n",
    "print('Empty summaries ', len(text_sum[text_sum == 0]))\n",
    "print(\"Review Text - Mean: \",text_rev.mean(),\"||| Median \", text_rev.median(), \"||| Max \", max(text_rev))\n",
    "print('Empty reviews ', len(text_rev[text_rev == 0]))"
   ]
  },
  {
   "cell_type": "code",
   "execution_count": 116,
   "metadata": {},
   "outputs": [
    {
     "data": {
      "text/plain": [
       "<matplotlib.axes._subplots.AxesSubplot at 0x7f7ad8bcb240>"
      ]
     },
     "execution_count": 116,
     "metadata": {},
     "output_type": "execute_result"
    },
    {
     "data": {
      "image/png": "[encoded data removed]",
      "text/plain": [
       "<Figure size 432x288 with 1 Axes>"
      ]
     },
     "metadata": {
      "needs_background": "light"
     },
     "output_type": "display_data"
    }
   ],
   "source": [
    "text_sum.value_counts()[:10].plot(kind = 'bar')"
   ]
  },
  {
   "cell_type": "code",
   "execution_count": 57,
   "metadata": {},
   "outputs": [
    {
     "data": {
      "text/plain": [
       "<matplotlib.axes._subplots.AxesSubplot at 0x7f7ad65cff28>"
      ]
     },
     "execution_count": 57,
     "metadata": {},
     "output_type": "execute_result"
    },
    {
     "data": {
      "image/png": "[encoded data removed]",
      "text/plain": [
       "<Figure size 432x288 with 1 Axes>"
      ]
     },
     "metadata": {
      "needs_background": "light"
     },
     "output_type": "display_data"
    }
   ],
   "source": [
    "text_rev.value_counts()[:10].plot(kind = 'bar')"
   ]
  },
  {
   "cell_type": "code",
   "execution_count": 58,
   "metadata": {},
   "outputs": [],
   "source": [
    "a = modcloth['height'].str.split()\n",
    "for row in a[a.isna()].index:\n",
    "    a.at[row] = ['0ft', '0in']"
   ]
  },
  {
   "cell_type": "code",
   "execution_count": 59,
   "metadata": {},
   "outputs": [
    {
     "data": {
      "text/plain": [
       "0    66\n",
       "1    62\n",
       "2    67\n",
       "3     0\n",
       "4    62\n",
       "Name: height, dtype: int64"
      ]
     },
     "execution_count": 59,
     "metadata": {},
     "output_type": "execute_result"
    }
   ],
   "source": [
    "func = lambda x: print((int(x[0].strip('ft'))*12) + int(x[1].strip('in')))\n",
    "def func(x):\n",
    "    try:\n",
    "        val = (int(x[0].strip('ft'))*12) + int(x[1].strip('in'))\n",
    "    except:\n",
    "        if 'ft' in x[0]:\n",
    "            val = int(x[0].strip('ft'))*12\n",
    "        else:\n",
    "            val = int(x[0].strip('in'))\n",
    "    return val\n",
    "heights = a.apply(func)\n",
    "modcloth['heights_conv'] = heights\n",
    "a.apply(func).head()"
   ]
  },
  {
   "cell_type": "code",
   "execution_count": 60,
   "metadata": {},
   "outputs": [
    {
     "data": {
      "text/plain": [
       "<matplotlib.axes._subplots.AxesSubplot at 0x7f7ad671de10>"
      ]
     },
     "execution_count": 60,
     "metadata": {},
     "output_type": "execute_result"
    },
    {
     "data": {
      "image/png": "[encoded data removed]",
      "text/plain": [
       "<Figure size 432x288 with 1 Axes>"
      ]
     },
     "metadata": {
      "needs_background": "light"
     },
     "output_type": "display_data"
    }
   ],
   "source": [
    "modcloth['bra size'].value_counts().plot(kind = 'bar')"
   ]
  },
  {
   "cell_type": "code",
   "execution_count": 61,
   "metadata": {},
   "outputs": [
    {
     "data": {
      "text/plain": [
       "<matplotlib.axes._subplots.AxesSubplot at 0x7f7ad6701a90>"
      ]
     },
     "execution_count": 61,
     "metadata": {},
     "output_type": "execute_result"
    },
    {
     "data": {
      "image/png": "[encoded data removed]",
      "text/plain": [
       "<Figure size 432x288 with 1 Axes>"
      ]
     },
     "metadata": {
      "needs_background": "light"
     },
     "output_type": "display_data"
    }
   ],
   "source": [
    "modcloth['cup size'].value_counts().plot(kind = 'bar')"
   ]
  },
  {
   "cell_type": "code",
   "execution_count": 62,
   "metadata": {},
   "outputs": [
    {
     "data": {
      "text/plain": [
       "<matplotlib.axes._subplots.AxesSubplot at 0x7f7ad65e5ba8>"
      ]
     },
     "execution_count": 62,
     "metadata": {},
     "output_type": "execute_result"
    },
    {
     "data": {
      "image/png": "[encoded data removed]",
      "text/plain": [
       "<Figure size 432x288 with 1 Axes>"
      ]
     },
     "metadata": {
      "needs_background": "light"
     },
     "output_type": "display_data"
    }
   ],
   "source": [
    "modcloth['category'].value_counts().plot(kind = 'bar')"
   ]
  },
  {
   "cell_type": "code",
   "execution_count": 63,
   "metadata": {},
   "outputs": [
    {
     "data": {
      "text/plain": [
       "fit      0.685554\n",
       "large    0.157736\n",
       "small    0.156710\n",
       "Name: fit, dtype: float64"
      ]
     },
     "execution_count": 63,
     "metadata": {},
     "output_type": "execute_result"
    },
    {
     "data": {
      "image/png": "[encoded data removed]",
      "text/plain": [
       "<Figure size 432x288 with 1 Axes>"
      ]
     },
     "metadata": {
      "needs_background": "light"
     },
     "output_type": "display_data"
    }
   ],
   "source": [
    "modcloth['fit'].value_counts().plot(kind = 'bar')\n",
    "modcloth['fit'].value_counts()/len(modcloth)"
   ]
  },
  {
   "cell_type": "code",
   "execution_count": 64,
   "metadata": {},
   "outputs": [
    {
     "data": {
      "text/plain": [
       "<matplotlib.axes._subplots.AxesSubplot at 0x7f7ad679edd8>"
      ]
     },
     "execution_count": 64,
     "metadata": {},
     "output_type": "execute_result"
    },
    {
     "data": {
      "image/png": "[encoded data removed]",
      "text/plain": [
       "<Figure size 432x288 with 1 Axes>"
      ]
     },
     "metadata": {
      "needs_background": "light"
     },
     "output_type": "display_data"
    }
   ],
   "source": [
    "modcloth['length'].value_counts().plot(kind = 'bar')"
   ]
  },
  {
   "cell_type": "code",
   "execution_count": 65,
   "metadata": {},
   "outputs": [
    {
     "data": {
      "text/plain": [
       "5.0    29604\n",
       "4.0    27118\n",
       "3.0    19526\n",
       "2.0     5130\n",
       "1.0     1344\n",
       "Name: quality, dtype: int64"
      ]
     },
     "metadata": {},
     "output_type": "display_data"
    },
    {
     "data": {
      "text/plain": [
       "<matplotlib.axes._subplots.AxesSubplot at 0x7f7ad6793748>"
      ]
     },
     "execution_count": 65,
     "metadata": {},
     "output_type": "execute_result"
    },
    {
     "data": {
      "image/png": "[encoded data removed]",
      "text/plain": [
       "<Figure size 432x288 with 1 Axes>"
      ]
     },
     "metadata": {
      "needs_background": "light"
     },
     "output_type": "display_data"
    }
   ],
   "source": [
    "display(modcloth['quality'].value_counts())\n",
    "modcloth['quality'].value_counts().plot(kind = 'bar')"
   ]
  },
  {
   "cell_type": "code",
   "execution_count": 66,
   "metadata": {},
   "outputs": [
    {
     "data": {
      "text/plain": [
       "<matplotlib.axes._subplots.AxesSubplot at 0x7f7ad67e9240>"
      ]
     },
     "execution_count": 66,
     "metadata": {},
     "output_type": "execute_result"
    },
    {
     "data": {
      "image/png": "[encoded data removed]",
      "text/plain": [
       "<Figure size 432x288 with 1 Axes>"
      ]
     },
     "metadata": {
      "needs_background": "light"
     },
     "output_type": "display_data"
    }
   ],
   "source": [
    "modcloth['shoe size'].value_counts().plot(kind = 'bar')"
   ]
  },
  {
   "cell_type": "code",
   "execution_count": 67,
   "metadata": {},
   "outputs": [
    {
     "data": {
      "text/plain": [
       "<matplotlib.axes._subplots.AxesSubplot at 0x7f7ad67abc18>"
      ]
     },
     "execution_count": 67,
     "metadata": {},
     "output_type": "execute_result"
    },
    {
     "data": {
      "image/png": "[encoded data removed]",
      "text/plain": [
       "<Figure size 432x288 with 1 Axes>"
      ]
     },
     "metadata": {
      "needs_background": "light"
     },
     "output_type": "display_data"
    }
   ],
   "source": [
    "modcloth['shoe width'].value_counts().plot(kind = 'bar')"
   ]
  },
  {
   "cell_type": "code",
   "execution_count": 68,
   "metadata": {},
   "outputs": [],
   "source": [
    "modcloth = modcloth.dropna(subset=['fit', 'quality']).reset_index(drop=True)"
   ]
  },
  {
   "cell_type": "code",
   "execution_count": 69,
   "metadata": {},
   "outputs": [],
   "source": [
    "fit = modcloth['fit']\n",
    "cats = []\n",
    "for i in fit:\n",
    "    if i == 'fit':\n",
    "        cats.append(1)\n",
    "    elif i == 'large' :\n",
    "        cats.append(2)\n",
    "    elif i == 'small':    \n",
    "        cats.append(3)\n",
    "\n",
    "cats_ser  = pd.Series(cats)\n",
    "modcloth['cats'] = cats_ser"
   ]
  },
  {
   "cell_type": "code",
   "execution_count": 119,
   "metadata": {},
   "outputs": [],
   "source": [
    "onehotencoder = OneHotEncoder() \n",
    "data2 = onehotencoder.fit_transform(modcloth[['fit']].dropna()).toarray() "
   ]
  },
  {
   "cell_type": "code",
   "execution_count": 122,
   "metadata": {},
   "outputs": [
    {
     "data": {
      "text/html": [
       "<div>\n",
       "<style scoped>\n",
       "    .dataframe tbody tr th:only-of-type {\n",
       "        vertical-align: middle;\n",
       "    }\n",
       "\n",
       "    .dataframe tbody tr th {\n",
       "        vertical-align: top;\n",
       "    }\n",
       "\n",
       "    .dataframe thead th {\n",
       "        text-align: right;\n",
       "    }\n",
       "</style>\n",
       "<table border=\"1\" class=\"dataframe\">\n",
       "  <thead>\n",
       "    <tr style=\"text-align: right;\">\n",
       "      <th></th>\n",
       "      <th>0</th>\n",
       "      <th>1</th>\n",
       "      <th>2</th>\n",
       "    </tr>\n",
       "  </thead>\n",
       "  <tbody>\n",
       "    <tr>\n",
       "      <th>0</th>\n",
       "      <td>0.0</td>\n",
       "      <td>0.0</td>\n",
       "      <td>1.0</td>\n",
       "    </tr>\n",
       "    <tr>\n",
       "      <th>1</th>\n",
       "      <td>0.0</td>\n",
       "      <td>0.0</td>\n",
       "      <td>1.0</td>\n",
       "    </tr>\n",
       "    <tr>\n",
       "      <th>2</th>\n",
       "      <td>0.0</td>\n",
       "      <td>0.0</td>\n",
       "      <td>1.0</td>\n",
       "    </tr>\n",
       "    <tr>\n",
       "      <th>3</th>\n",
       "      <td>1.0</td>\n",
       "      <td>0.0</td>\n",
       "      <td>0.0</td>\n",
       "    </tr>\n",
       "    <tr>\n",
       "      <th>4</th>\n",
       "      <td>0.0</td>\n",
       "      <td>0.0</td>\n",
       "      <td>1.0</td>\n",
       "    </tr>\n",
       "  </tbody>\n",
       "</table>\n",
       "</div>"
      ],
      "text/plain": [
       "     0    1    2\n",
       "0  0.0  0.0  1.0\n",
       "1  0.0  0.0  1.0\n",
       "2  0.0  0.0  1.0\n",
       "3  1.0  0.0  0.0\n",
       "4  0.0  0.0  1.0"
      ]
     },
     "execution_count": 122,
     "metadata": {},
     "output_type": "execute_result"
    }
   ],
   "source": [
    "pd.DataFrame(data2).head()"
   ]
  },
  {
   "cell_type": "code",
   "execution_count": 28,
   "metadata": {},
   "outputs": [
    {
     "data": {
      "text/plain": [
       "999"
      ]
     },
     "execution_count": 28,
     "metadata": {},
     "output_type": "execute_result"
    }
   ],
   "source": [
    "len(modcloth[modcloth['height'].isna()])"
   ]
  },
  {
   "cell_type": "code",
   "execution_count": 29,
   "metadata": {},
   "outputs": [
    {
     "data": {
      "text/plain": [
       "\"From the other reviews it seems like this dress either works for your body type or it doesn't. I have a small waist but flabby tummy and this dress is perfect for me! The detail around the front hides everything and the clingyness of the dress makes me look curvier than usual. The material is thick but clings to your bum (enough that when you walk the bum jiggle shows through!) and the slit is a bit high so it's not necessarily office appropriate without tights, but it's a good dress with tights or for an occasion.\""
      ]
     },
     "execution_count": 29,
     "metadata": {},
     "output_type": "execute_result"
    }
   ],
   "source": [
    "modcloth['review_text'][1]"
   ]
  },
  {
   "cell_type": "markdown",
   "metadata": {},
   "source": [
    "### Task\n",
    "2. Identify a predictive task that can be studied on this dataset. Describe how you will evaluate your\n",
    "model at this predictive task, what relevant baselines can be used for comparison, and how you will assess\n",
    "the validity of your model’s predictions. It’s fine to use models that were described in class here (i.e.,\n",
    "you don’t have to invent anything new (though you may!)), though you should explain and justify which\n",
    "model was appropriate for the task. It’s also important in this section to carefully describe what features\n",
    "you will use and how you had to process the data to obtain them.\n"
   ]
  },
  {
   "cell_type": "code",
   "execution_count": 70,
   "metadata": {
    "scrolled": true
   },
   "outputs": [
    {
     "data": {
      "text/html": [
       "<div>\n",
       "<style scoped>\n",
       "    .dataframe tbody tr th:only-of-type {\n",
       "        vertical-align: middle;\n",
       "    }\n",
       "\n",
       "    .dataframe tbody tr th {\n",
       "        vertical-align: top;\n",
       "    }\n",
       "\n",
       "    .dataframe thead th {\n",
       "        text-align: right;\n",
       "    }\n",
       "</style>\n",
       "<table border=\"1\" class=\"dataframe\">\n",
       "  <thead>\n",
       "    <tr style=\"text-align: right;\">\n",
       "      <th></th>\n",
       "      <th>bra size</th>\n",
       "      <th>bust</th>\n",
       "      <th>category</th>\n",
       "      <th>cup size</th>\n",
       "      <th>fit</th>\n",
       "      <th>height</th>\n",
       "      <th>hips</th>\n",
       "      <th>item_id</th>\n",
       "      <th>length</th>\n",
       "      <th>quality</th>\n",
       "      <th>review_summary</th>\n",
       "      <th>review_text</th>\n",
       "      <th>shoe size</th>\n",
       "      <th>shoe width</th>\n",
       "      <th>size</th>\n",
       "      <th>user_id</th>\n",
       "      <th>user_name</th>\n",
       "      <th>waist</th>\n",
       "      <th>heights_conv</th>\n",
       "      <th>cats</th>\n",
       "    </tr>\n",
       "  </thead>\n",
       "  <tbody>\n",
       "    <tr>\n",
       "      <th>0</th>\n",
       "      <td>34.0</td>\n",
       "      <td>36</td>\n",
       "      <td>new</td>\n",
       "      <td>d</td>\n",
       "      <td>small</td>\n",
       "      <td>5ft 6in</td>\n",
       "      <td>38.0</td>\n",
       "      <td>123373</td>\n",
       "      <td>just right</td>\n",
       "      <td>5.0</td>\n",
       "      <td>NaN</td>\n",
       "      <td>NaN</td>\n",
       "      <td>NaN</td>\n",
       "      <td>NaN</td>\n",
       "      <td>7</td>\n",
       "      <td>991571</td>\n",
       "      <td>Emily</td>\n",
       "      <td>29.0</td>\n",
       "      <td>66</td>\n",
       "      <td>3</td>\n",
       "    </tr>\n",
       "    <tr>\n",
       "      <th>1</th>\n",
       "      <td>36.0</td>\n",
       "      <td>NaN</td>\n",
       "      <td>new</td>\n",
       "      <td>b</td>\n",
       "      <td>small</td>\n",
       "      <td>5ft 2in</td>\n",
       "      <td>30.0</td>\n",
       "      <td>123373</td>\n",
       "      <td>just right</td>\n",
       "      <td>3.0</td>\n",
       "      <td>NaN</td>\n",
       "      <td>NaN</td>\n",
       "      <td>NaN</td>\n",
       "      <td>NaN</td>\n",
       "      <td>13</td>\n",
       "      <td>587883</td>\n",
       "      <td>sydneybraden2001</td>\n",
       "      <td>31.0</td>\n",
       "      <td>62</td>\n",
       "      <td>3</td>\n",
       "    </tr>\n",
       "    <tr>\n",
       "      <th>2</th>\n",
       "      <td>32.0</td>\n",
       "      <td>NaN</td>\n",
       "      <td>new</td>\n",
       "      <td>b</td>\n",
       "      <td>small</td>\n",
       "      <td>5ft 7in</td>\n",
       "      <td>NaN</td>\n",
       "      <td>123373</td>\n",
       "      <td>slightly long</td>\n",
       "      <td>2.0</td>\n",
       "      <td>NaN</td>\n",
       "      <td>NaN</td>\n",
       "      <td>9.0</td>\n",
       "      <td>NaN</td>\n",
       "      <td>7</td>\n",
       "      <td>395665</td>\n",
       "      <td>Ugggh</td>\n",
       "      <td>30.0</td>\n",
       "      <td>67</td>\n",
       "      <td>3</td>\n",
       "    </tr>\n",
       "    <tr>\n",
       "      <th>3</th>\n",
       "      <td>NaN</td>\n",
       "      <td>NaN</td>\n",
       "      <td>new</td>\n",
       "      <td>dd/e</td>\n",
       "      <td>fit</td>\n",
       "      <td>NaN</td>\n",
       "      <td>NaN</td>\n",
       "      <td>123373</td>\n",
       "      <td>just right</td>\n",
       "      <td>5.0</td>\n",
       "      <td>NaN</td>\n",
       "      <td>NaN</td>\n",
       "      <td>NaN</td>\n",
       "      <td>NaN</td>\n",
       "      <td>21</td>\n",
       "      <td>875643</td>\n",
       "      <td>alexmeyer626</td>\n",
       "      <td>NaN</td>\n",
       "      <td>0</td>\n",
       "      <td>1</td>\n",
       "    </tr>\n",
       "    <tr>\n",
       "      <th>4</th>\n",
       "      <td>36.0</td>\n",
       "      <td>NaN</td>\n",
       "      <td>new</td>\n",
       "      <td>b</td>\n",
       "      <td>small</td>\n",
       "      <td>5ft 2in</td>\n",
       "      <td>NaN</td>\n",
       "      <td>123373</td>\n",
       "      <td>slightly long</td>\n",
       "      <td>5.0</td>\n",
       "      <td>NaN</td>\n",
       "      <td>NaN</td>\n",
       "      <td>NaN</td>\n",
       "      <td>NaN</td>\n",
       "      <td>18</td>\n",
       "      <td>944840</td>\n",
       "      <td>dberrones1</td>\n",
       "      <td>NaN</td>\n",
       "      <td>62</td>\n",
       "      <td>3</td>\n",
       "    </tr>\n",
       "  </tbody>\n",
       "</table>\n",
       "</div>"
      ],
      "text/plain": [
       "   bra size bust category cup size    fit   height  hips  item_id  \\\n",
       "0      34.0   36      new        d  small  5ft 6in  38.0   123373   \n",
       "1      36.0  NaN      new        b  small  5ft 2in  30.0   123373   \n",
       "2      32.0  NaN      new        b  small  5ft 7in   NaN   123373   \n",
       "3       NaN  NaN      new     dd/e    fit      NaN   NaN   123373   \n",
       "4      36.0  NaN      new        b  small  5ft 2in   NaN   123373   \n",
       "\n",
       "          length  quality review_summary review_text  shoe size shoe width  \\\n",
       "0     just right      5.0            NaN         NaN        NaN        NaN   \n",
       "1     just right      3.0            NaN         NaN        NaN        NaN   \n",
       "2  slightly long      2.0            NaN         NaN        9.0        NaN   \n",
       "3     just right      5.0            NaN         NaN        NaN        NaN   \n",
       "4  slightly long      5.0            NaN         NaN        NaN        NaN   \n",
       "\n",
       "   size  user_id         user_name  waist  heights_conv  cats  \n",
       "0     7   991571             Emily   29.0            66     3  \n",
       "1    13   587883  sydneybraden2001   31.0            62     3  \n",
       "2     7   395665             Ugggh   30.0            67     3  \n",
       "3    21   875643      alexmeyer626    NaN             0     1  \n",
       "4    18   944840        dberrones1    NaN            62     3  "
      ]
     },
     "execution_count": 70,
     "metadata": {},
     "output_type": "execute_result"
    }
   ],
   "source": [
    "modcloth.head()"
   ]
  },
  {
   "cell_type": "code",
   "execution_count": 71,
   "metadata": {},
   "outputs": [
    {
     "data": {
      "text/html": [
       "<div>\n",
       "<style scoped>\n",
       "    .dataframe tbody tr th:only-of-type {\n",
       "        vertical-align: middle;\n",
       "    }\n",
       "\n",
       "    .dataframe tbody tr th {\n",
       "        vertical-align: top;\n",
       "    }\n",
       "\n",
       "    .dataframe thead th {\n",
       "        text-align: right;\n",
       "    }\n",
       "</style>\n",
       "<table border=\"1\" class=\"dataframe\">\n",
       "  <thead>\n",
       "    <tr style=\"text-align: right;\">\n",
       "      <th></th>\n",
       "      <th>bra size</th>\n",
       "      <th>bust</th>\n",
       "      <th>category</th>\n",
       "      <th>cup size</th>\n",
       "      <th>fit</th>\n",
       "      <th>height</th>\n",
       "      <th>hips</th>\n",
       "      <th>item_id</th>\n",
       "      <th>length</th>\n",
       "      <th>quality</th>\n",
       "      <th>review_summary</th>\n",
       "      <th>review_text</th>\n",
       "      <th>shoe size</th>\n",
       "      <th>shoe width</th>\n",
       "      <th>size</th>\n",
       "      <th>user_id</th>\n",
       "      <th>user_name</th>\n",
       "      <th>waist</th>\n",
       "      <th>heights_conv</th>\n",
       "      <th>cats</th>\n",
       "    </tr>\n",
       "  </thead>\n",
       "  <tbody>\n",
       "    <tr>\n",
       "      <th>0</th>\n",
       "      <td>36.0</td>\n",
       "      <td>42</td>\n",
       "      <td>new</td>\n",
       "      <td>dd/e</td>\n",
       "      <td>fit</td>\n",
       "      <td>5ft 1in</td>\n",
       "      <td>40.0</td>\n",
       "      <td>659701</td>\n",
       "      <td>just right</td>\n",
       "      <td>5.0</td>\n",
       "      <td>Perfect for someone who h</td>\n",
       "      <td>Perfect for someone who has a large bust  and ...</td>\n",
       "      <td>6.5</td>\n",
       "      <td>average</td>\n",
       "      <td>15</td>\n",
       "      <td>120075</td>\n",
       "      <td>brittanynicolebrisson</td>\n",
       "      <td>NaN</td>\n",
       "      <td>61</td>\n",
       "      <td>1</td>\n",
       "    </tr>\n",
       "    <tr>\n",
       "      <th>1</th>\n",
       "      <td>36.0</td>\n",
       "      <td>39</td>\n",
       "      <td>dresses</td>\n",
       "      <td>d</td>\n",
       "      <td>large</td>\n",
       "      <td>5ft 7in</td>\n",
       "      <td>46.0</td>\n",
       "      <td>169727</td>\n",
       "      <td>just right</td>\n",
       "      <td>4.0</td>\n",
       "      <td>I ordered a size XL accor</td>\n",
       "      <td>I ordered a size XL according to my measuremen...</td>\n",
       "      <td>NaN</td>\n",
       "      <td>NaN</td>\n",
       "      <td>15</td>\n",
       "      <td>710709</td>\n",
       "      <td>nzudaire</td>\n",
       "      <td>NaN</td>\n",
       "      <td>67</td>\n",
       "      <td>2</td>\n",
       "    </tr>\n",
       "    <tr>\n",
       "      <th>2</th>\n",
       "      <td>36.0</td>\n",
       "      <td>NaN</td>\n",
       "      <td>new</td>\n",
       "      <td>b</td>\n",
       "      <td>large</td>\n",
       "      <td>5ft 4in</td>\n",
       "      <td>NaN</td>\n",
       "      <td>411494</td>\n",
       "      <td>slightly long</td>\n",
       "      <td>5.0</td>\n",
       "      <td>Not only is this top ador</td>\n",
       "      <td>Not only is this top adorable, it's so comfort...</td>\n",
       "      <td>NaN</td>\n",
       "      <td>NaN</td>\n",
       "      <td>12</td>\n",
       "      <td>548289</td>\n",
       "      <td>anna.springerr</td>\n",
       "      <td>NaN</td>\n",
       "      <td>64</td>\n",
       "      <td>2</td>\n",
       "    </tr>\n",
       "    <tr>\n",
       "      <th>3</th>\n",
       "      <td>36.0</td>\n",
       "      <td>NaN</td>\n",
       "      <td>outerwear</td>\n",
       "      <td>c</td>\n",
       "      <td>fit</td>\n",
       "      <td>5ft 10in</td>\n",
       "      <td>42.0</td>\n",
       "      <td>781127</td>\n",
       "      <td>just right</td>\n",
       "      <td>4.0</td>\n",
       "      <td>Definitely not for chicks</td>\n",
       "      <td>Definitely not for chicks with long arms.  It'...</td>\n",
       "      <td>NaN</td>\n",
       "      <td>NaN</td>\n",
       "      <td>12</td>\n",
       "      <td>910962</td>\n",
       "      <td>april.fischer</td>\n",
       "      <td>NaN</td>\n",
       "      <td>70</td>\n",
       "      <td>1</td>\n",
       "    </tr>\n",
       "    <tr>\n",
       "      <th>4</th>\n",
       "      <td>34.0</td>\n",
       "      <td>36</td>\n",
       "      <td>tops</td>\n",
       "      <td>b</td>\n",
       "      <td>large</td>\n",
       "      <td>5ft 6in</td>\n",
       "      <td>38.0</td>\n",
       "      <td>520945</td>\n",
       "      <td>slightly long</td>\n",
       "      <td>3.0</td>\n",
       "      <td>Great top for leggings...</td>\n",
       "      <td>Great top for leggings...I probably should hav...</td>\n",
       "      <td>7.0</td>\n",
       "      <td>narrow</td>\n",
       "      <td>8</td>\n",
       "      <td>42735</td>\n",
       "      <td>Katherine</td>\n",
       "      <td>NaN</td>\n",
       "      <td>66</td>\n",
       "      <td>2</td>\n",
       "    </tr>\n",
       "  </tbody>\n",
       "</table>\n",
       "</div>"
      ],
      "text/plain": [
       "   bra size bust   category cup size    fit    height  hips  item_id  \\\n",
       "0      36.0   42        new     dd/e    fit   5ft 1in  40.0   659701   \n",
       "1      36.0   39    dresses        d  large   5ft 7in  46.0   169727   \n",
       "2      36.0  NaN        new        b  large   5ft 4in   NaN   411494   \n",
       "3      36.0  NaN  outerwear        c    fit  5ft 10in  42.0   781127   \n",
       "4      34.0   36       tops        b  large   5ft 6in  38.0   520945   \n",
       "\n",
       "          length  quality             review_summary  \\\n",
       "0     just right      5.0  Perfect for someone who h   \n",
       "1     just right      4.0  I ordered a size XL accor   \n",
       "2  slightly long      5.0  Not only is this top ador   \n",
       "3     just right      4.0  Definitely not for chicks   \n",
       "4  slightly long      3.0  Great top for leggings...   \n",
       "\n",
       "                                         review_text  shoe size shoe width  \\\n",
       "0  Perfect for someone who has a large bust  and ...        6.5    average   \n",
       "1  I ordered a size XL according to my measuremen...        NaN        NaN   \n",
       "2  Not only is this top adorable, it's so comfort...        NaN        NaN   \n",
       "3  Definitely not for chicks with long arms.  It'...        NaN        NaN   \n",
       "4  Great top for leggings...I probably should hav...        7.0     narrow   \n",
       "\n",
       "   size  user_id              user_name  waist  heights_conv  cats  \n",
       "0    15   120075  brittanynicolebrisson    NaN            61     1  \n",
       "1    15   710709               nzudaire    NaN            67     2  \n",
       "2    12   548289         anna.springerr    NaN            64     2  \n",
       "3    12   910962          april.fischer    NaN            70     1  \n",
       "4     8    42735              Katherine    NaN            66     2  "
      ]
     },
     "execution_count": 71,
     "metadata": {},
     "output_type": "execute_result"
    }
   ],
   "source": [
    "modcloth_shuffled = modcloth.sample(frac=1).reset_index(drop=True)\n",
    "modcloth_shuffled.head()"
   ]
  },
  {
   "cell_type": "code",
   "execution_count": 72,
   "metadata": {},
   "outputs": [],
   "source": [
    "all_users = set()\n",
    "all_items = set()\n",
    "all_bought = set()\n",
    "usersPerItem = defaultdict(set)\n",
    "itemsPerUser = defaultdict(set)"
   ]
  },
  {
   "cell_type": "code",
   "execution_count": 73,
   "metadata": {},
   "outputs": [],
   "source": [
    "for i in range(len(modcloth)):\n",
    "    users = modcloth['user_id'].values[i]\n",
    "    items = modcloth['item_id'].values[i]\n",
    "    itemsPerUser[users].add(items)\n",
    "    usersPerItem[items].add(users)\n",
    "    all_users.add(users)\n",
    "    all_items.add(items)\n",
    "    "
   ]
  },
  {
   "cell_type": "code",
   "execution_count": 74,
   "metadata": {},
   "outputs": [
    {
     "data": {
      "text/plain": [
       "318"
      ]
     },
     "execution_count": 74,
     "metadata": {},
     "output_type": "execute_result"
    }
   ],
   "source": [
    "len(pd.Series(usersPerItem)[pd.Series(usersPerItem).apply(len) == 1])"
   ]
  },
  {
   "cell_type": "code",
   "execution_count": 75,
   "metadata": {},
   "outputs": [
    {
     "data": {
      "text/plain": [
       "31987"
      ]
     },
     "execution_count": 75,
     "metadata": {},
     "output_type": "execute_result"
    }
   ],
   "source": [
    "len(pd.Series(itemsPerUser)[pd.Series(itemsPerUser).apply(len) == 1])"
   ]
  },
  {
   "cell_type": "code",
   "execution_count": 76,
   "metadata": {},
   "outputs": [
    {
     "data": {
      "text/plain": [
       "just right        61908\n",
       "slightly long     11247\n",
       "slightly short     6316\n",
       "very long          2426\n",
       "very short          800\n",
       "Name: length, dtype: int64"
      ]
     },
     "execution_count": 76,
     "metadata": {},
     "output_type": "execute_result"
    }
   ],
   "source": [
    "#Might want to predict the length of the clothes on the user so that it is just right\n",
    "modcloth.length.value_counts()"
   ]
  },
  {
   "cell_type": "code",
   "execution_count": null,
   "metadata": {},
   "outputs": [],
   "source": [
    "train_data = data[:int(0.65*len(data))]\n",
    "val_data = data[int(0.65*len(data)):int(0.85*len(data))]\n",
    "test_data = data[int(0.85*len(data)):]"
   ]
  },
  {
   "cell_type": "code",
   "execution_count": 207,
   "metadata": {},
   "outputs": [
    {
     "name": "stdout",
     "output_type": "stream",
     "text": [
      "82722\n",
      "0.6829666344294004\n",
      "0.5122686190485722\n"
     ]
    },
    {
     "name": "stderr",
     "output_type": "stream",
     "text": [
      "/opt/conda/lib/python3.6/site-packages/sklearn/linear_model/logistic.py:432: FutureWarning:\n",
      "\n",
      "Default solver will be changed to 'lbfgs' in 0.22. Specify a solver to silence this warning.\n",
      "\n",
      "/opt/conda/lib/python3.6/site-packages/sklearn/linear_model/logistic.py:469: FutureWarning:\n",
      "\n",
      "Default multi_class will be changed to 'auto' in 0.22. Specify the multi_class option to silence this warning.\n",
      "\n",
      "/opt/conda/lib/python3.6/site-packages/sklearn/linear_model/logistic.py:432: FutureWarning:\n",
      "\n",
      "Default solver will be changed to 'lbfgs' in 0.22. Specify a solver to silence this warning.\n",
      "\n",
      "/opt/conda/lib/python3.6/site-packages/sklearn/linear_model/logistic.py:469: FutureWarning:\n",
      "\n",
      "Default multi_class will be changed to 'auto' in 0.22. Specify the multi_class option to silence this warning.\n",
      "\n"
     ]
    },
    {
     "name": "stdout",
     "output_type": "stream",
     "text": [
      "0.6829666344294004\n",
      "0.5104943315501231\n"
     ]
    },
    {
     "name": "stderr",
     "output_type": "stream",
     "text": [
      "/opt/conda/lib/python3.6/site-packages/sklearn/linear_model/logistic.py:432: FutureWarning:\n",
      "\n",
      "Default solver will be changed to 'lbfgs' in 0.22. Specify a solver to silence this warning.\n",
      "\n",
      "/opt/conda/lib/python3.6/site-packages/sklearn/linear_model/logistic.py:469: FutureWarning:\n",
      "\n",
      "Default multi_class will be changed to 'auto' in 0.22. Specify the multi_class option to silence this warning.\n",
      "\n"
     ]
    },
    {
     "name": "stdout",
     "output_type": "stream",
     "text": [
      "0.6708776595744681\n",
      "0.4576183105272804\n"
     ]
    }
   ],
   "source": [
    "modcloth_shuffled['1'] = 1\n",
    "print(len(modcloth_shuffled))\n",
    "train = modcloth_shuffled[:int(0.65*len(modcloth_shuffled))]\n",
    "valid = modcloth_shuffled[int(0.65*len(modcloth_shuffled)):int(0.85*len(modcloth_shuffled))]\n",
    "test = modcloth_shuffled[int(0.85*len(modcloth_shuffled)):]\n",
    "y_tr = train['cats']\n",
    "X_tr = train[['1', 'quality', 'heights_conv', 'size']]\n",
    "y_valid = valid['cats']\n",
    "X_valid = valid[['1', 'quality', 'heights_conv', 'size']]\n",
    "y_test = test['cats']\n",
    "X_test = test[['1', 'quality', 'heights_conv', 'size']]\n",
    "C = [.000000001, .00000001, .00001]\n",
    "for c in C:\n",
    "    clf = LogisticRegression(C = c,class_weight='balanced')\n",
    "    clf.fit(X_tr, y_tr)\n",
    "    print(clf.score(X_valid, y_valid))\n",
    "    b  = clf.predict_proba(X_test)\n",
    "\n",
    "    test_labels_auc2 = []    \n",
    "    test_labels2 = []\n",
    "    for r in test['fit']:\n",
    "        label = [0, 0, 0]\n",
    "        if 'small' in r:\n",
    "            test_labels2.append(0)\n",
    "            label[0] = 1\n",
    "        elif 'fit' in r:\n",
    "            test_labels2.append(1)\n",
    "            label[1] = 1\n",
    "        elif 'large' in r:\n",
    "            test_labels2.append(2)\n",
    "            label[2] = 1\n",
    "        test_labels_auc2.append(label)\n",
    "    test_labels_auc2 = np.array(test_labels_auc2)\n",
    "\n",
    "    avg = []\n",
    "    for i in range(3):\n",
    "        avg.append(roc_auc_score(test_labels_auc2[:,i], b[:,i], average='weighted'))\n",
    "    print(np.mean(avg))    "
   ]
  },
  {
   "cell_type": "code",
   "execution_count": 105,
   "metadata": {},
   "outputs": [
    {
     "name": "stdout",
     "output_type": "stream",
     "text": [
      "0.38434689157094715\n",
      "0.38441117445337564\n",
      "0.3908152837658078\n"
     ]
    }
   ],
   "source": [
    "from sklearn.metrics import balanced_accuracy_score\n",
    "\n",
    "print(balanced_accuracy_score(y_tr, clf.predict(X_tr)))\n",
    "print(balanced_accuracy_score(y_valid, clf.predict(X_valid)))\n",
    "print(balanced_accuracy_score(y_test, clf.predict(X_test)))"
   ]
  },
  {
   "cell_type": "code",
   "execution_count": 103,
   "metadata": {},
   "outputs": [
    {
     "data": {
      "text/plain": [
       "162     2\n",
       "594     2\n",
       "1044    2\n",
       "1425    2\n",
       "1623    2\n",
       "dtype: int64"
      ]
     },
     "execution_count": 103,
     "metadata": {},
     "output_type": "execute_result"
    }
   ],
   "source": [
    "u = pd.Series(clf.predict(X_test))\n",
    "u[u != 1].head()"
   ]
  },
  {
   "cell_type": "code",
   "execution_count": 81,
   "metadata": {},
   "outputs": [
    {
     "data": {
      "text/plain": [
       "0.6617777419614795"
      ]
     },
     "execution_count": 81,
     "metadata": {},
     "output_type": "execute_result"
    }
   ],
   "source": [
    "clf.score(X_test, y_test)"
   ]
  },
  {
   "cell_type": "code",
   "execution_count": 106,
   "metadata": {},
   "outputs": [],
   "source": [
    "b  = clf.predict_proba(X_test)\n",
    "\n",
    "test_labels_auc2 = []    \n",
    "test_labels2 = []\n",
    "for r in test['fit']:\n",
    "    label = [0, 0, 0]\n",
    "    if 'small' in r:\n",
    "        test_labels2.append(0)\n",
    "        label[0] = 1\n",
    "    elif 'fit' in r:\n",
    "        test_labels2.append(1)\n",
    "        label[1] = 1\n",
    "    elif 'large' in r:\n",
    "        test_labels2.append(2)\n",
    "        label[2] = 1\n",
    "    test_labels_auc2.append(label)\n",
    "test_labels_auc2 = np.array(test_labels_auc2)\n",
    "\n",
    "avg = []\n",
    "for i in range(3):\n",
    "    avg.append(roc_auc_score(test_labels_auc2[:,i], b[:,i], average='weighted'))"
   ]
  },
  {
   "cell_type": "code",
   "execution_count": 107,
   "metadata": {},
   "outputs": [
    {
     "data": {
      "text/plain": [
       "0.6617777419614795"
      ]
     },
     "execution_count": 107,
     "metadata": {},
     "output_type": "execute_result"
    }
   ],
   "source": [
    "clf.score(X_test, y_test)"
   ]
  },
  {
   "cell_type": "code",
   "execution_count": 108,
   "metadata": {},
   "outputs": [
    {
     "data": {
      "text/plain": [
       "0.41507326476155093"
      ]
     },
     "execution_count": 108,
     "metadata": {},
     "output_type": "execute_result"
    }
   ],
   "source": [
    "np.mean(avg)"
   ]
  },
  {
   "cell_type": "code",
   "execution_count": 210,
   "metadata": {},
   "outputs": [
    {
     "name": "stdout",
     "output_type": "stream",
     "text": [
      "82722\n",
      "0.6829666344294004\n"
     ]
    },
    {
     "name": "stderr",
     "output_type": "stream",
     "text": [
      "/opt/conda/lib/python3.6/site-packages/sklearn/linear_model/logistic.py:432: FutureWarning:\n",
      "\n",
      "Default solver will be changed to 'lbfgs' in 0.22. Specify a solver to silence this warning.\n",
      "\n",
      "/opt/conda/lib/python3.6/site-packages/sklearn/linear_model/logistic.py:469: FutureWarning:\n",
      "\n",
      "Default multi_class will be changed to 'auto' in 0.22. Specify the multi_class option to silence this warning.\n",
      "\n"
     ]
    },
    {
     "name": "stdout",
     "output_type": "stream",
     "text": [
      "AUC avg 0.4932335481654139 with  1e-10\n"
     ]
    },
    {
     "name": "stderr",
     "output_type": "stream",
     "text": [
      "/opt/conda/lib/python3.6/site-packages/sklearn/linear_model/logistic.py:432: FutureWarning:\n",
      "\n",
      "Default solver will be changed to 'lbfgs' in 0.22. Specify a solver to silence this warning.\n",
      "\n",
      "/opt/conda/lib/python3.6/site-packages/sklearn/linear_model/logistic.py:469: FutureWarning:\n",
      "\n",
      "Default multi_class will be changed to 'auto' in 0.22. Specify the multi_class option to silence this warning.\n",
      "\n"
     ]
    },
    {
     "name": "stdout",
     "output_type": "stream",
     "text": [
      "0.6817577369439072\n",
      "AUC avg 0.48983460349407504 with  0.0001\n"
     ]
    },
    {
     "name": "stderr",
     "output_type": "stream",
     "text": [
      "/opt/conda/lib/python3.6/site-packages/sklearn/linear_model/logistic.py:432: FutureWarning:\n",
      "\n",
      "Default solver will be changed to 'lbfgs' in 0.22. Specify a solver to silence this warning.\n",
      "\n",
      "/opt/conda/lib/python3.6/site-packages/sklearn/linear_model/logistic.py:469: FutureWarning:\n",
      "\n",
      "Default multi_class will be changed to 'auto' in 0.22. Specify the multi_class option to silence this warning.\n",
      "\n"
     ]
    },
    {
     "name": "stdout",
     "output_type": "stream",
     "text": [
      "0.6817577369439072\n",
      "AUC avg 0.48983460349407504 with  0.001\n"
     ]
    },
    {
     "name": "stderr",
     "output_type": "stream",
     "text": [
      "/opt/conda/lib/python3.6/site-packages/sklearn/linear_model/logistic.py:432: FutureWarning:\n",
      "\n",
      "Default solver will be changed to 'lbfgs' in 0.22. Specify a solver to silence this warning.\n",
      "\n",
      "/opt/conda/lib/python3.6/site-packages/sklearn/linear_model/logistic.py:469: FutureWarning:\n",
      "\n",
      "Default multi_class will be changed to 'auto' in 0.22. Specify the multi_class option to silence this warning.\n",
      "\n"
     ]
    },
    {
     "name": "stdout",
     "output_type": "stream",
     "text": [
      "0.6817577369439072\n",
      "AUC avg 0.48983460349407504 with  0.01\n"
     ]
    },
    {
     "name": "stderr",
     "output_type": "stream",
     "text": [
      "/opt/conda/lib/python3.6/site-packages/sklearn/linear_model/logistic.py:432: FutureWarning:\n",
      "\n",
      "Default solver will be changed to 'lbfgs' in 0.22. Specify a solver to silence this warning.\n",
      "\n",
      "/opt/conda/lib/python3.6/site-packages/sklearn/linear_model/logistic.py:469: FutureWarning:\n",
      "\n",
      "Default multi_class will be changed to 'auto' in 0.22. Specify the multi_class option to silence this warning.\n",
      "\n"
     ]
    },
    {
     "name": "stdout",
     "output_type": "stream",
     "text": [
      "0.6817577369439072\n",
      "AUC avg 0.48983460349407504 with  0.1\n"
     ]
    }
   ],
   "source": [
    "modcloth_shuffled['1'] = 1\n",
    "print(len(modcloth_shuffled))\n",
    "train = modcloth_shuffled[:int(0.65*len(modcloth_shuffled))]\n",
    "valid = modcloth_shuffled[int(0.65*len(modcloth_shuffled)):int(0.85*len(modcloth_shuffled))]\n",
    "test = modcloth_shuffled[int(0.85*len(modcloth_shuffled)):]\n",
    "y_tr = train['cats']\n",
    "X_tr = train[['1', 'user_id', 'item_id', 'size']]\n",
    "y_valid = valid['cats']\n",
    "X_valid = valid[['1', 'user_id', 'item_id', 'size']]\n",
    "y_test = test['cats']\n",
    "X_test = test[['1', 'user_id', 'item_id', 'size']]\n",
    "C = [.00000001, .0001, .001, .01, .1, ]\n",
    "for c in C:\n",
    "    clf = LogisticRegression(C = c,class_weight='balanced')\n",
    "    clf.fit(X_tr, y_tr)\n",
    "    print(clf.score(X_valid, y_valid))\n",
    "    b  = clf.predict_proba(X_test)\n",
    "\n",
    "    test_labels_auc2 = []    \n",
    "    test_labels2 = []\n",
    "    for r in test['fit']:\n",
    "        label = [0, 0, 0]\n",
    "        if 'small' in r:\n",
    "            test_labels2.append(0)\n",
    "            label[0] = 1\n",
    "        elif 'fit' in r:\n",
    "            test_labels2.append(1)\n",
    "            label[1] = 1\n",
    "        elif 'large' in r:\n",
    "            test_labels2.append(2)\n",
    "            label[2] = 1\n",
    "        test_labels_auc2.append(label)\n",
    "    test_labels_auc2 = np.array(test_labels_auc2)\n",
    "\n",
    "    avg = []\n",
    "    for i in range(3):\n",
    "        avg.append(roc_auc_score(test_labels_auc2[:,i], b[:,i], average='weighted'))\n",
    "    print('AUC avg',np.mean(avg), 'with ', c)  "
   ]
  },
  {
   "cell_type": "code",
   "execution_count": 110,
   "metadata": {},
   "outputs": [
    {
     "name": "stdout",
     "output_type": "stream",
     "text": [
      "0.3337846760273124\n",
      "0.3337023750056966\n",
      "0.3336268895038766\n"
     ]
    }
   ],
   "source": [
    "from sklearn.metrics import balanced_accuracy_score\n",
    "\n",
    "print(balanced_accuracy_score(y_tr, clf.predict(X_tr)))\n",
    "print(balanced_accuracy_score(y_valid, clf.predict(X_valid)))\n",
    "print(balanced_accuracy_score(y_test, clf.predict(X_test)))"
   ]
  },
  {
   "cell_type": "code",
   "execution_count": 111,
   "metadata": {},
   "outputs": [],
   "source": [
    "b  = clf.predict_proba(X_test)\n",
    "\n",
    "test_labels_auc2 = []    \n",
    "test_labels2 = []\n",
    "for r in test['fit']:\n",
    "    label = [0, 0, 0]\n",
    "    if 'small' in r:\n",
    "        test_labels2.append(0)\n",
    "        label[0] = 1\n",
    "    elif 'fit' in r:\n",
    "        test_labels2.append(1)\n",
    "        label[1] = 1\n",
    "    elif 'large' in r:\n",
    "        test_labels2.append(2)\n",
    "        label[2] = 1\n",
    "    test_labels_auc2.append(label)\n",
    "test_labels_auc2 = np.array(test_labels_auc2)\n",
    "\n",
    "avg = []\n",
    "for i in range(3):\n",
    "    avg.append(roc_auc_score(test_labels_auc2[:,i], b[:,i], average='weighted'))"
   ]
  },
  {
   "cell_type": "code",
   "execution_count": 112,
   "metadata": {},
   "outputs": [
    {
     "data": {
      "text/plain": [
       "0.48983460349407504"
      ]
     },
     "execution_count": 112,
     "metadata": {},
     "output_type": "execute_result"
    }
   ],
   "source": [
    "np.mean(avg)"
   ]
  },
  {
   "cell_type": "code",
   "execution_count": 143,
   "metadata": {},
   "outputs": [
    {
     "name": "stdout",
     "output_type": "stream",
     "text": [
      "82722\n"
     ]
    },
    {
     "name": "stderr",
     "output_type": "stream",
     "text": [
      "/opt/conda/lib/python3.6/site-packages/sklearn/linear_model/logistic.py:432: FutureWarning: Default solver will be changed to 'lbfgs' in 0.22. Specify a solver to silence this warning.\n",
      "  FutureWarning)\n",
      "/opt/conda/lib/python3.6/site-packages/sklearn/linear_model/logistic.py:469: FutureWarning: Default multi_class will be changed to 'auto' in 0.22. Specify the multi_class option to silence this warning.\n",
      "  \"this warning.\", FutureWarning)\n"
     ]
    },
    {
     "name": "stdout",
     "output_type": "stream",
     "text": [
      "0.6829666344294004\n",
      "AUC avg 0.4931540163427715\n"
     ]
    },
    {
     "name": "stderr",
     "output_type": "stream",
     "text": [
      "/opt/conda/lib/python3.6/site-packages/sklearn/linear_model/logistic.py:432: FutureWarning: Default solver will be changed to 'lbfgs' in 0.22. Specify a solver to silence this warning.\n",
      "  FutureWarning)\n",
      "/opt/conda/lib/python3.6/site-packages/sklearn/linear_model/logistic.py:469: FutureWarning: Default multi_class will be changed to 'auto' in 0.22. Specify the multi_class option to silence this warning.\n",
      "  \"this warning.\", FutureWarning)\n"
     ]
    },
    {
     "name": "stdout",
     "output_type": "stream",
     "text": [
      "0.676075918762089\n",
      "AUC avg 0.4813931707246037\n"
     ]
    },
    {
     "name": "stderr",
     "output_type": "stream",
     "text": [
      "/opt/conda/lib/python3.6/site-packages/sklearn/linear_model/logistic.py:432: FutureWarning: Default solver will be changed to 'lbfgs' in 0.22. Specify a solver to silence this warning.\n",
      "  FutureWarning)\n",
      "/opt/conda/lib/python3.6/site-packages/sklearn/linear_model/logistic.py:469: FutureWarning: Default multi_class will be changed to 'auto' in 0.22. Specify the multi_class option to silence this warning.\n",
      "  \"this warning.\", FutureWarning)\n"
     ]
    },
    {
     "name": "stdout",
     "output_type": "stream",
     "text": [
      "0.6758341392649904\n",
      "AUC avg 0.4812539734352171\n"
     ]
    },
    {
     "name": "stderr",
     "output_type": "stream",
     "text": [
      "/opt/conda/lib/python3.6/site-packages/sklearn/linear_model/logistic.py:432: FutureWarning: Default solver will be changed to 'lbfgs' in 0.22. Specify a solver to silence this warning.\n",
      "  FutureWarning)\n",
      "/opt/conda/lib/python3.6/site-packages/sklearn/linear_model/logistic.py:469: FutureWarning: Default multi_class will be changed to 'auto' in 0.22. Specify the multi_class option to silence this warning.\n",
      "  \"this warning.\", FutureWarning)\n"
     ]
    },
    {
     "name": "stdout",
     "output_type": "stream",
     "text": [
      "0.6758341392649904\n",
      "AUC avg 0.4812399726010674\n"
     ]
    },
    {
     "name": "stderr",
     "output_type": "stream",
     "text": [
      "/opt/conda/lib/python3.6/site-packages/sklearn/linear_model/logistic.py:432: FutureWarning: Default solver will be changed to 'lbfgs' in 0.22. Specify a solver to silence this warning.\n",
      "  FutureWarning)\n",
      "/opt/conda/lib/python3.6/site-packages/sklearn/linear_model/logistic.py:469: FutureWarning: Default multi_class will be changed to 'auto' in 0.22. Specify the multi_class option to silence this warning.\n",
      "  \"this warning.\", FutureWarning)\n"
     ]
    },
    {
     "name": "stdout",
     "output_type": "stream",
     "text": [
      "0.6758341392649904\n",
      "AUC avg 0.48123842551605156\n"
     ]
    },
    {
     "name": "stderr",
     "output_type": "stream",
     "text": [
      "/opt/conda/lib/python3.6/site-packages/sklearn/linear_model/logistic.py:432: FutureWarning: Default solver will be changed to 'lbfgs' in 0.22. Specify a solver to silence this warning.\n",
      "  FutureWarning)\n",
      "/opt/conda/lib/python3.6/site-packages/sklearn/linear_model/logistic.py:469: FutureWarning: Default multi_class will be changed to 'auto' in 0.22. Specify the multi_class option to silence this warning.\n",
      "  \"this warning.\", FutureWarning)\n"
     ]
    },
    {
     "name": "stdout",
     "output_type": "stream",
     "text": [
      "0.6758341392649904\n",
      "AUC avg 0.4812384117884518\n"
     ]
    },
    {
     "name": "stderr",
     "output_type": "stream",
     "text": [
      "/opt/conda/lib/python3.6/site-packages/sklearn/linear_model/logistic.py:432: FutureWarning: Default solver will be changed to 'lbfgs' in 0.22. Specify a solver to silence this warning.\n",
      "  FutureWarning)\n",
      "/opt/conda/lib/python3.6/site-packages/sklearn/linear_model/logistic.py:469: FutureWarning: Default multi_class will be changed to 'auto' in 0.22. Specify the multi_class option to silence this warning.\n",
      "  \"this warning.\", FutureWarning)\n"
     ]
    },
    {
     "name": "stdout",
     "output_type": "stream",
     "text": [
      "0.6758341392649904\n",
      "AUC avg 0.4812383673591589\n"
     ]
    }
   ],
   "source": [
    "modcloth_shuffled['1'] = 1\n",
    "print(len(modcloth_shuffled))\n",
    "train = modcloth_shuffled[:int(0.65*len(modcloth_shuffled))]\n",
    "valid = modcloth_shuffled[int(0.65*len(modcloth_shuffled)):int(0.85*len(modcloth_shuffled))]\n",
    "test = modcloth_shuffled[int(0.85*len(modcloth_shuffled)):]\n",
    "y_tr = train['cats']\n",
    "X_tr = train[['1', 'user_id', 'item_id', 'quality', 'heights_conv','size']]\n",
    "y_valid = valid['cats']\n",
    "X_valid = valid[['1', 'user_id', 'item_id', 'quality', 'heights_conv','size']]\n",
    "y_test = test['cats']\n",
    "X_test = test[['1', 'user_id', 'item_id', 'quality', 'heights_conv','size']]\n",
    "C = [.00000001, .0001, .001, .01, .1, 1, 10]\n",
    "for c in C:\n",
    "    clf = LogisticRegression(C = c,class_weight='balanced')\n",
    "    clf.fit(X_tr, y_tr)\n",
    "    print(clf.score(X_valid, y_valid))\n",
    "    b  = clf.predict_proba(X_test)\n",
    "\n",
    "    test_labels_auc2 = []    \n",
    "    test_labels2 = []\n",
    "    for r in test['fit']:\n",
    "        label = [0, 0, 0]\n",
    "        if 'small' in r:\n",
    "            test_labels2.append(0)\n",
    "            label[0] = 1\n",
    "        elif 'fit' in r:\n",
    "            test_labels2.append(1)\n",
    "            label[1] = 1\n",
    "        elif 'large' in r:\n",
    "            test_labels2.append(2)\n",
    "            label[2] = 1\n",
    "        test_labels_auc2.append(label)\n",
    "    test_labels_auc2 = np.array(test_labels_auc2)\n",
    "\n",
    "    avg = []\n",
    "    for i in range(3):\n",
    "        avg.append(roc_auc_score(test_labels_auc2[:,i], b[:,i], average='weighted'))\n",
    "    print('AUC avg',np.mean(avg))"
   ]
  },
  {
   "cell_type": "code",
   "execution_count": 114,
   "metadata": {},
   "outputs": [],
   "source": [
    "b  = clf.predict_proba(X_test)\n",
    "\n",
    "test_labels_auc2 = []    \n",
    "test_labels2 = []\n",
    "for r in test['fit']:\n",
    "    label = [0, 0, 0]\n",
    "    if 'small' in r:\n",
    "        test_labels2.append(0)\n",
    "        label[0] = 1\n",
    "    elif 'fit' in r:\n",
    "        test_labels2.append(1)\n",
    "        label[1] = 1\n",
    "    elif 'large' in r:\n",
    "        test_labels2.append(2)\n",
    "        label[2] = 1\n",
    "    test_labels_auc2.append(label)\n",
    "test_labels_auc2 = np.array(test_labels_auc2)\n",
    "\n",
    "avg = []\n",
    "for i in range(3):\n",
    "    avg.append(roc_auc_score(test_labels_auc2[:,i], b[:,i], average='weighted'))"
   ]
  },
  {
   "cell_type": "code",
   "execution_count": 117,
   "metadata": {},
   "outputs": [
    {
     "data": {
      "text/plain": [
       "0.6837779031348215"
      ]
     },
     "execution_count": 117,
     "metadata": {},
     "output_type": "execute_result"
    }
   ],
   "source": [
    "clf.score(X_test, y_test)"
   ]
  },
  {
   "cell_type": "code",
   "execution_count": 115,
   "metadata": {},
   "outputs": [
    {
     "data": {
      "text/plain": [
       "0.4812384117884518"
      ]
     },
     "execution_count": 115,
     "metadata": {},
     "output_type": "execute_result"
    }
   ],
   "source": [
    "np.mean(avg)"
   ]
  },
  {
   "cell_type": "code",
   "execution_count": 85,
   "metadata": {},
   "outputs": [
    {
     "data": {
      "text/plain": [
       "SVC(C=1.0, cache_size=200, class_weight=None, coef0=0.0,\n",
       "    decision_function_shape='ovr', degree=3, gamma='scale', kernel='rbf',\n",
       "    max_iter=-1, probability=False, random_state=None, shrinking=True,\n",
       "    tol=0.001, verbose=False)"
      ]
     },
     "execution_count": 85,
     "metadata": {},
     "output_type": "execute_result"
    }
   ],
   "source": [
    "#model = svm.SVC(gamma='scale')\n",
    "#model.fit(X_tr, y_tr)  "
   ]
  },
  {
   "cell_type": "code",
   "execution_count": 86,
   "metadata": {},
   "outputs": [
    {
     "name": "stdout",
     "output_type": "stream",
     "text": [
      "0.6852275474715914\n",
      "0.6829666344294004\n",
      "0.6916753968893545\n"
     ]
    }
   ],
   "source": [
    "#print(model.score(X_tr, y_tr))\n",
    "#print(model.score(X_valid, y_valid))\n",
    "#print(model.score(X_test, y_test))"
   ]
  },
  {
   "cell_type": "code",
   "execution_count": 87,
   "metadata": {},
   "outputs": [
    {
     "data": {
      "text/plain": [
       "Series([], dtype: int64)"
      ]
     },
     "execution_count": 87,
     "metadata": {},
     "output_type": "execute_result"
    }
   ],
   "source": [
    "#z = pd.Series(model.predict(X_test))\n",
    "#z[z != 1]"
   ]
  },
  {
   "cell_type": "markdown",
   "metadata": {},
   "source": [
    "### Model\n",
    "3. Describe your model. Explain and justify your decision to use the model you proposed. How will you\n",
    "optimize it? Did you run into any issues due to scalability, overfitting, etc.? What other models did you\n",
    "consider for comparison? What were your unsuccessful attempts along the way? What are the strengths\n",
    "and weaknesses of the different models being compared?"
   ]
  },
  {
   "cell_type": "code",
   "execution_count": 88,
   "metadata": {},
   "outputs": [],
   "source": [
    "item_data = {}\n",
    "item_index = {}\n",
    "user_index = {}\n",
    "user_data = {}\n",
    "u_index = 0\n",
    "i_index = 0\n",
    "for r in train_data:\n",
    "    if r['item_id'] + '|' + str(r['size']) not in item_data:\n",
    "        item_data[r['item_id'] + '|' + str(r['size'])] = [r]\n",
    "        item_index[r['item_id'] + '|' + str(r['size'])] = i_index\n",
    "        i_index += 1\n",
    "    else:\n",
    "        item_data[r['item_id'] + '|' + str(r['size'])].append(r)\n",
    "        \n",
    "    if r['user_id'] not in user_data:\n",
    "        user_data[r['user_id']] = [r]\n",
    "        user_index[r['user_id']] = u_index\n",
    "        u_index += 1\n",
    "    else:\n",
    "        user_data[r['user_id']].append(r)"
   ]
  },
  {
   "cell_type": "code",
   "execution_count": 89,
   "metadata": {
    "scrolled": true
   },
   "outputs": [
    {
     "ename": "KeyError",
     "evalue": "'639589'",
     "output_type": "error",
     "traceback": [
      "\u001b[0;31m---------------------------------------------------------------------------\u001b[0m",
      "\u001b[0;31mKeyError\u001b[0m                                  Traceback (most recent call last)",
      "\u001b[0;32m<ipython-input-89-8c3bfa601290>\u001b[0m in \u001b[0;36m<module>\u001b[0;34m\u001b[0m\n\u001b[1;32m      1\u001b[0m \u001b[0mitem_data\u001b[0m\u001b[0;34m[\u001b[0m\u001b[0;34m'657081|32'\u001b[0m\u001b[0;34m]\u001b[0m\u001b[0;34m\u001b[0m\u001b[0;34m\u001b[0m\u001b[0m\n\u001b[1;32m      2\u001b[0m \u001b[0mitem_index\u001b[0m\u001b[0;34m[\u001b[0m\u001b[0;34m'657081|32'\u001b[0m\u001b[0;34m]\u001b[0m\u001b[0;34m\u001b[0m\u001b[0;34m\u001b[0m\u001b[0m\n\u001b[0;32m----> 3\u001b[0;31m \u001b[0muser_index\u001b[0m\u001b[0;34m[\u001b[0m\u001b[0;34m'639589'\u001b[0m\u001b[0;34m]\u001b[0m\u001b[0;34m\u001b[0m\u001b[0;34m\u001b[0m\u001b[0m\n\u001b[0m\u001b[1;32m      4\u001b[0m \u001b[0muser_data\u001b[0m\u001b[0;34m[\u001b[0m\u001b[0;34m'639589'\u001b[0m\u001b[0;34m]\u001b[0m\u001b[0;34m\u001b[0m\u001b[0;34m\u001b[0m\u001b[0m\n",
      "\u001b[0;31mKeyError\u001b[0m: '639589'"
     ]
    }
   ],
   "source": [
    "item_data['657081|32']\n",
    "item_index['657081|32']\n",
    "user_index['639589']\n",
    "user_data['639589']"
   ]
  },
  {
   "cell_type": "code",
   "execution_count": 90,
   "metadata": {},
   "outputs": [
    {
     "data": {
      "text/plain": [
       "25651"
      ]
     },
     "execution_count": 90,
     "metadata": {},
     "output_type": "execute_result"
    }
   ],
   "source": [
    "len(pd.Series(user_data)[pd.Series(user_data).apply(len) == 1])"
   ]
  },
  {
   "cell_type": "code",
   "execution_count": 91,
   "metadata": {},
   "outputs": [
    {
     "data": {
      "text/plain": [
       "1751"
      ]
     },
     "execution_count": 91,
     "metadata": {},
     "output_type": "execute_result"
    }
   ],
   "source": [
    "len(pd.Series(item_data)[pd.Series(item_data).apply(len) == 1])"
   ]
  },
  {
   "cell_type": "code",
   "execution_count": 92,
   "metadata": {},
   "outputs": [],
   "source": [
    "true_size_item = np.zeros(len(item_data))\n",
    "true_size_cust = np.zeros(len(user_data))\n",
    "w = 1; b_1 = -1; b_2 = 1; lamda = 2\n",
    "\n",
    "for item in item_data:\n",
    "    true_size_item[item_index[item]] = int(item.split('|')[1])"
   ]
  },
  {
   "cell_type": "code",
   "execution_count": 93,
   "metadata": {},
   "outputs": [
    {
     "data": {
      "text/plain": [
       "(35532, 35532, 4203, 4203, 4203)"
      ]
     },
     "execution_count": 93,
     "metadata": {},
     "output_type": "execute_result"
    }
   ],
   "source": [
    "len(user_data), len(user_index), len(item_data), len(item_index),len(true_size_item)"
   ]
  },
  {
   "cell_type": "code",
   "execution_count": 205,
   "metadata": {
    "scrolled": true
   },
   "outputs": [
    {
     "name": "stdout",
     "output_type": "stream",
     "text": [
      "0 19535.508616951854\n"
     ]
    },
    {
     "name": "stderr",
     "output_type": "stream",
     "text": [
      "/opt/conda/lib/python3.6/site-packages/sklearn/linear_model/logistic.py:432: FutureWarning:\n",
      "\n",
      "Default solver will be changed to 'lbfgs' in 0.22. Specify a solver to silence this warning.\n",
      "\n"
     ]
    },
    {
     "name": "stdout",
     "output_type": "stream",
     "text": [
      "Average AUC 0.6293295446743786 [0.6285926199383326, 0.6244310289120757, 0.6349649851727275]\n",
      "5 19185.266107668347\n"
     ]
    },
    {
     "name": "stderr",
     "output_type": "stream",
     "text": [
      "/opt/conda/lib/python3.6/site-packages/sklearn/linear_model/logistic.py:432: FutureWarning:\n",
      "\n",
      "Default solver will be changed to 'lbfgs' in 0.22. Specify a solver to silence this warning.\n",
      "\n"
     ]
    },
    {
     "name": "stdout",
     "output_type": "stream",
     "text": [
      "Average AUC 0.6291529628958851 [0.6287735668105972, 0.6235962328843399, 0.6350890889927182]\n",
      "10 19436.59432494836\n"
     ]
    },
    {
     "name": "stderr",
     "output_type": "stream",
     "text": [
      "/opt/conda/lib/python3.6/site-packages/sklearn/linear_model/logistic.py:432: FutureWarning:\n",
      "\n",
      "Default solver will be changed to 'lbfgs' in 0.22. Specify a solver to silence this warning.\n",
      "\n"
     ]
    },
    {
     "name": "stdout",
     "output_type": "stream",
     "text": [
      "Average AUC 0.6307077104934321 [0.6302202948457543, 0.6257740584880463, 0.6361287781464957]\n",
      "15 18751.038124960854\n"
     ]
    },
    {
     "name": "stderr",
     "output_type": "stream",
     "text": [
      "/opt/conda/lib/python3.6/site-packages/sklearn/linear_model/logistic.py:432: FutureWarning:\n",
      "\n",
      "Default solver will be changed to 'lbfgs' in 0.22. Specify a solver to silence this warning.\n",
      "\n"
     ]
    },
    {
     "name": "stdout",
     "output_type": "stream",
     "text": [
      "Average AUC 0.6331869479615753 [0.6322758752283633, 0.6283667879230919, 0.6389181807332706]\n",
      "20 18496.45855086232\n"
     ]
    },
    {
     "name": "stderr",
     "output_type": "stream",
     "text": [
      "/opt/conda/lib/python3.6/site-packages/sklearn/linear_model/logistic.py:432: FutureWarning:\n",
      "\n",
      "Default solver will be changed to 'lbfgs' in 0.22. Specify a solver to silence this warning.\n",
      "\n"
     ]
    },
    {
     "name": "stdout",
     "output_type": "stream",
     "text": [
      "Average AUC 0.6326219314749567 [0.6329680767270537, 0.6274415301069951, 0.6374561875908215]\n",
      "25 18317.74642615943\n"
     ]
    },
    {
     "name": "stderr",
     "output_type": "stream",
     "text": [
      "/opt/conda/lib/python3.6/site-packages/sklearn/linear_model/logistic.py:432: FutureWarning:\n",
      "\n",
      "Default solver will be changed to 'lbfgs' in 0.22. Specify a solver to silence this warning.\n",
      "\n"
     ]
    },
    {
     "name": "stdout",
     "output_type": "stream",
     "text": [
      "Average AUC 0.6319104942508093 [0.6307367307702847, 0.6292630308451816, 0.6357317211369614]\n",
      "30 18364.607358927093\n"
     ]
    },
    {
     "name": "stderr",
     "output_type": "stream",
     "text": [
      "/opt/conda/lib/python3.6/site-packages/sklearn/linear_model/logistic.py:432: FutureWarning:\n",
      "\n",
      "Default solver will be changed to 'lbfgs' in 0.22. Specify a solver to silence this warning.\n",
      "\n"
     ]
    },
    {
     "name": "stdout",
     "output_type": "stream",
     "text": [
      "Average AUC 0.6333330112074343 [0.6344759839359831, 0.6288663414110269, 0.6366567082752929]\n",
      "35 18511.725869869362\n"
     ]
    },
    {
     "name": "stderr",
     "output_type": "stream",
     "text": [
      "/opt/conda/lib/python3.6/site-packages/sklearn/linear_model/logistic.py:432: FutureWarning:\n",
      "\n",
      "Default solver will be changed to 'lbfgs' in 0.22. Specify a solver to silence this warning.\n",
      "\n"
     ]
    },
    {
     "name": "stdout",
     "output_type": "stream",
     "text": [
      "Average AUC 0.6330844032554955 [0.6335417809416909, 0.6279772988201525, 0.6377341300046433]\n",
      "40 18296.799556890415\n"
     ]
    },
    {
     "name": "stderr",
     "output_type": "stream",
     "text": [
      "/opt/conda/lib/python3.6/site-packages/sklearn/linear_model/logistic.py:432: FutureWarning:\n",
      "\n",
      "Default solver will be changed to 'lbfgs' in 0.22. Specify a solver to silence this warning.\n",
      "\n"
     ]
    },
    {
     "name": "stdout",
     "output_type": "stream",
     "text": [
      "Average AUC 0.6329932023595024 [0.6337300264694584, 0.6286885450968033, 0.6365610355122454]\n",
      "45 18199.165007110638\n"
     ]
    },
    {
     "name": "stderr",
     "output_type": "stream",
     "text": [
      "/opt/conda/lib/python3.6/site-packages/sklearn/linear_model/logistic.py:432: FutureWarning:\n",
      "\n",
      "Default solver will be changed to 'lbfgs' in 0.22. Specify a solver to silence this warning.\n",
      "\n"
     ]
    },
    {
     "name": "stdout",
     "output_type": "stream",
     "text": [
      "Average AUC 0.6335674987595084 [0.6356423987616697, 0.630059460701294, 0.6350006368155612]\n",
      "50 18101.338645059725\n"
     ]
    },
    {
     "name": "stderr",
     "output_type": "stream",
     "text": [
      "/opt/conda/lib/python3.6/site-packages/sklearn/linear_model/logistic.py:432: FutureWarning:\n",
      "\n",
      "Default solver will be changed to 'lbfgs' in 0.22. Specify a solver to silence this warning.\n",
      "\n"
     ]
    },
    {
     "name": "stdout",
     "output_type": "stream",
     "text": [
      "Average AUC 0.6337257296558182 [0.6340625263112795, 0.6279869094317322, 0.6391277532244428]\n",
      "55 17850.715766183956\n"
     ]
    },
    {
     "name": "stderr",
     "output_type": "stream",
     "text": [
      "/opt/conda/lib/python3.6/site-packages/sklearn/linear_model/logistic.py:432: FutureWarning:\n",
      "\n",
      "Default solver will be changed to 'lbfgs' in 0.22. Specify a solver to silence this warning.\n",
      "\n"
     ]
    },
    {
     "name": "stdout",
     "output_type": "stream",
     "text": [
      "Average AUC 0.6348912948621727 [0.6362972849499731, 0.6281820048467992, 0.6401945947897456]\n",
      "60 17637.48939840261\n"
     ]
    },
    {
     "name": "stderr",
     "output_type": "stream",
     "text": [
      "/opt/conda/lib/python3.6/site-packages/sklearn/linear_model/logistic.py:432: FutureWarning:\n",
      "\n",
      "Default solver will be changed to 'lbfgs' in 0.22. Specify a solver to silence this warning.\n",
      "\n"
     ]
    },
    {
     "name": "stdout",
     "output_type": "stream",
     "text": [
      "Average AUC 0.6361741712761341 [0.6378603430916109, 0.6295166899711284, 0.6411454807656629]\n",
      "65 17593.398349918854\n"
     ]
    },
    {
     "name": "stderr",
     "output_type": "stream",
     "text": [
      "/opt/conda/lib/python3.6/site-packages/sklearn/linear_model/logistic.py:432: FutureWarning:\n",
      "\n",
      "Default solver will be changed to 'lbfgs' in 0.22. Specify a solver to silence this warning.\n",
      "\n"
     ]
    },
    {
     "name": "stdout",
     "output_type": "stream",
     "text": [
      "Average AUC 0.6355672109710894 [0.6364734989056998, 0.6255927535378492, 0.6446353804697191]\n",
      "70 17653.153172684393\n"
     ]
    },
    {
     "name": "stderr",
     "output_type": "stream",
     "text": [
      "/opt/conda/lib/python3.6/site-packages/sklearn/linear_model/logistic.py:432: FutureWarning:\n",
      "\n",
      "Default solver will be changed to 'lbfgs' in 0.22. Specify a solver to silence this warning.\n",
      "\n"
     ]
    },
    {
     "name": "stdout",
     "output_type": "stream",
     "text": [
      "Average AUC 0.6370619855703957 [0.636609607621291, 0.6294762186179208, 0.6451001304719756]\n",
      "75 17515.0584977368\n"
     ]
    },
    {
     "name": "stderr",
     "output_type": "stream",
     "text": [
      "/opt/conda/lib/python3.6/site-packages/sklearn/linear_model/logistic.py:432: FutureWarning:\n",
      "\n",
      "Default solver will be changed to 'lbfgs' in 0.22. Specify a solver to silence this warning.\n",
      "\n"
     ]
    },
    {
     "name": "stdout",
     "output_type": "stream",
     "text": [
      "Average AUC 0.634689759442864 [0.634615679704108, 0.6260893170577372, 0.6433642815667469]\n",
      "90 17046.718920562922\n"
     ]
    },
    {
     "name": "stderr",
     "output_type": "stream",
     "text": [
      "/opt/conda/lib/python3.6/site-packages/sklearn/linear_model/logistic.py:432: FutureWarning:\n",
      "\n",
      "Default solver will be changed to 'lbfgs' in 0.22. Specify a solver to silence this warning.\n",
      "\n"
     ]
    },
    {
     "name": "stdout",
     "output_type": "stream",
     "text": [
      "Average AUC 0.6371612722539386 [0.6358487041025419, 0.6292936932726024, 0.6463414193866714]\n",
      "95 16964.21077994383\n"
     ]
    },
    {
     "name": "stderr",
     "output_type": "stream",
     "text": [
      "/opt/conda/lib/python3.6/site-packages/sklearn/linear_model/logistic.py:432: FutureWarning:\n",
      "\n",
      "Default solver will be changed to 'lbfgs' in 0.22. Specify a solver to silence this warning.\n",
      "\n"
     ]
    },
    {
     "name": "stdout",
     "output_type": "stream",
     "text": [
      "Average AUC 0.6379834981749305 [0.6380388736854323, 0.62978391073786, 0.6461277101014993]\n",
      "100 16823.71713944999\n"
     ]
    },
    {
     "name": "stderr",
     "output_type": "stream",
     "text": [
      "/opt/conda/lib/python3.6/site-packages/sklearn/linear_model/logistic.py:432: FutureWarning:\n",
      "\n",
      "Default solver will be changed to 'lbfgs' in 0.22. Specify a solver to silence this warning.\n",
      "\n"
     ]
    },
    {
     "name": "stdout",
     "output_type": "stream",
     "text": [
      "Average AUC 0.6376292118958179 [0.6388837989277703, 0.6328479262588452, 0.641155910500838]\n",
      "105 16830.770704423627\n"
     ]
    },
    {
     "name": "stderr",
     "output_type": "stream",
     "text": [
      "/opt/conda/lib/python3.6/site-packages/sklearn/linear_model/logistic.py:432: FutureWarning:\n",
      "\n",
      "Default solver will be changed to 'lbfgs' in 0.22. Specify a solver to silence this warning.\n",
      "\n"
     ]
    },
    {
     "name": "stdout",
     "output_type": "stream",
     "text": [
      "Average AUC 0.6365962580809755 [0.6370432175064107, 0.6301985552352358, 0.6425470015012802]\n",
      "110 16690.741266004483\n"
     ]
    },
    {
     "name": "stderr",
     "output_type": "stream",
     "text": [
      "/opt/conda/lib/python3.6/site-packages/sklearn/linear_model/logistic.py:432: FutureWarning:\n",
      "\n",
      "Default solver will be changed to 'lbfgs' in 0.22. Specify a solver to silence this warning.\n",
      "\n"
     ]
    },
    {
     "name": "stdout",
     "output_type": "stream",
     "text": [
      "Average AUC 0.638125075622693 [0.6386739314444512, 0.6332114819654586, 0.6424898134581692]\n",
      "115 16769.589909751827\n"
     ]
    },
    {
     "name": "stderr",
     "output_type": "stream",
     "text": [
      "/opt/conda/lib/python3.6/site-packages/sklearn/linear_model/logistic.py:432: FutureWarning:\n",
      "\n",
      "Default solver will be changed to 'lbfgs' in 0.22. Specify a solver to silence this warning.\n",
      "\n"
     ]
    },
    {
     "name": "stdout",
     "output_type": "stream",
     "text": [
      "Average AUC 0.6388273599874922 [0.6404079973336243, 0.6312213073665796, 0.6448527752622728]\n",
      "120 16607.792019171433\n"
     ]
    },
    {
     "name": "stderr",
     "output_type": "stream",
     "text": [
      "/opt/conda/lib/python3.6/site-packages/sklearn/linear_model/logistic.py:432: FutureWarning:\n",
      "\n",
      "Default solver will be changed to 'lbfgs' in 0.22. Specify a solver to silence this warning.\n",
      "\n"
     ]
    },
    {
     "name": "stdout",
     "output_type": "stream",
     "text": [
      "Average AUC 0.6401329540478978 [0.6425277211903633, 0.6317760989886891, 0.6460950419646412]\n",
      "125 16552.25979037467\n"
     ]
    },
    {
     "name": "stderr",
     "output_type": "stream",
     "text": [
      "/opt/conda/lib/python3.6/site-packages/sklearn/linear_model/logistic.py:432: FutureWarning:\n",
      "\n",
      "Default solver will be changed to 'lbfgs' in 0.22. Specify a solver to silence this warning.\n",
      "\n"
     ]
    },
    {
     "name": "stdout",
     "output_type": "stream",
     "text": [
      "Average AUC 0.6384257090392234 [0.6415135817267573, 0.6298123154343065, 0.6439512299566064]\n",
      "130 16977.045951448294\n"
     ]
    },
    {
     "name": "stderr",
     "output_type": "stream",
     "text": [
      "/opt/conda/lib/python3.6/site-packages/sklearn/linear_model/logistic.py:432: FutureWarning:\n",
      "\n",
      "Default solver will be changed to 'lbfgs' in 0.22. Specify a solver to silence this warning.\n",
      "\n"
     ]
    },
    {
     "name": "stdout",
     "output_type": "stream",
     "text": [
      "Average AUC 0.6388576022789509 [0.6412105256078184, 0.6299640258028141, 0.6453982554262202]\n",
      "135 16822.786593414603\n"
     ]
    },
    {
     "name": "stderr",
     "output_type": "stream",
     "text": [
      "/opt/conda/lib/python3.6/site-packages/sklearn/linear_model/logistic.py:432: FutureWarning:\n",
      "\n",
      "Default solver will be changed to 'lbfgs' in 0.22. Specify a solver to silence this warning.\n",
      "\n"
     ]
    },
    {
     "name": "stdout",
     "output_type": "stream",
     "text": [
      "Average AUC 0.6391236119529397 [0.6424146792153721, 0.6289441263450661, 0.6460120302983807]\n",
      "140 16738.38506667446\n"
     ]
    },
    {
     "name": "stderr",
     "output_type": "stream",
     "text": [
      "/opt/conda/lib/python3.6/site-packages/sklearn/linear_model/logistic.py:432: FutureWarning:\n",
      "\n",
      "Default solver will be changed to 'lbfgs' in 0.22. Specify a solver to silence this warning.\n",
      "\n"
     ]
    },
    {
     "name": "stdout",
     "output_type": "stream",
     "text": [
      "Average AUC 0.6398675275190479 [0.6431616330853782, 0.6284087847702011, 0.6480321647015641]\n",
      "145 16981.502526965716\n"
     ]
    },
    {
     "name": "stderr",
     "output_type": "stream",
     "text": [
      "/opt/conda/lib/python3.6/site-packages/sklearn/linear_model/logistic.py:432: FutureWarning:\n",
      "\n",
      "Default solver will be changed to 'lbfgs' in 0.22. Specify a solver to silence this warning.\n",
      "\n"
     ]
    },
    {
     "name": "stdout",
     "output_type": "stream",
     "text": [
      "Average AUC 0.6383383178432277 [0.6411494709844815, 0.6283511211007232, 0.6455143614444782]\n",
      "150 16781.428181193918\n"
     ]
    },
    {
     "name": "stderr",
     "output_type": "stream",
     "text": [
      "/opt/conda/lib/python3.6/site-packages/sklearn/linear_model/logistic.py:432: FutureWarning:\n",
      "\n",
      "Default solver will be changed to 'lbfgs' in 0.22. Specify a solver to silence this warning.\n",
      "\n"
     ]
    },
    {
     "name": "stdout",
     "output_type": "stream",
     "text": [
      "Average AUC 0.6393339145176067 [0.6415796681876765, 0.6293646897587798, 0.6470573856063637]\n",
      "155 16935.03729696729\n"
     ]
    },
    {
     "name": "stderr",
     "output_type": "stream",
     "text": [
      "/opt/conda/lib/python3.6/site-packages/sklearn/linear_model/logistic.py:432: FutureWarning:\n",
      "\n",
      "Default solver will be changed to 'lbfgs' in 0.22. Specify a solver to silence this warning.\n",
      "\n"
     ]
    },
    {
     "name": "stdout",
     "output_type": "stream",
     "text": [
      "Average AUC 0.6379467539670668 [0.6395306391579593, 0.6301168040170526, 0.6441928187261884]\n",
      "160 17051.792593209786\n"
     ]
    },
    {
     "name": "stderr",
     "output_type": "stream",
     "text": [
      "/opt/conda/lib/python3.6/site-packages/sklearn/linear_model/logistic.py:432: FutureWarning:\n",
      "\n",
      "Default solver will be changed to 'lbfgs' in 0.22. Specify a solver to silence this warning.\n",
      "\n"
     ]
    },
    {
     "name": "stdout",
     "output_type": "stream",
     "text": [
      "Average AUC 0.6388396604367156 [0.6414273679155091, 0.6286570283927975, 0.6464345850018403]\n",
      "165 16541.02253591554\n"
     ]
    },
    {
     "name": "stderr",
     "output_type": "stream",
     "text": [
      "/opt/conda/lib/python3.6/site-packages/sklearn/linear_model/logistic.py:432: FutureWarning:\n",
      "\n",
      "Default solver will be changed to 'lbfgs' in 0.22. Specify a solver to silence this warning.\n",
      "\n"
     ]
    },
    {
     "name": "stdout",
     "output_type": "stream",
     "text": [
      "Average AUC 0.6394803575513289 [0.6423643359294626, 0.6300530231170295, 0.6460237136074949]\n",
      "170 16456.700880590262\n"
     ]
    },
    {
     "name": "stderr",
     "output_type": "stream",
     "text": [
      "/opt/conda/lib/python3.6/site-packages/sklearn/linear_model/logistic.py:432: FutureWarning:\n",
      "\n",
      "Default solver will be changed to 'lbfgs' in 0.22. Specify a solver to silence this warning.\n",
      "\n"
     ]
    },
    {
     "name": "stdout",
     "output_type": "stream",
     "text": [
      "Average AUC 0.640239515178363 [0.6412848074873743, 0.6302341450079585, 0.6491995930397564]\n",
      "175 16345.523991213593\n"
     ]
    },
    {
     "name": "stderr",
     "output_type": "stream",
     "text": [
      "/opt/conda/lib/python3.6/site-packages/sklearn/linear_model/logistic.py:432: FutureWarning:\n",
      "\n",
      "Default solver will be changed to 'lbfgs' in 0.22. Specify a solver to silence this warning.\n",
      "\n"
     ]
    },
    {
     "name": "stdout",
     "output_type": "stream",
     "text": [
      "Average AUC 0.6426184300813692 [0.646331765492455, 0.6318843785458199, 0.6496391462058329]\n",
      "180 16274.995280079946\n"
     ]
    },
    {
     "name": "stderr",
     "output_type": "stream",
     "text": [
      "/opt/conda/lib/python3.6/site-packages/sklearn/linear_model/logistic.py:432: FutureWarning:\n",
      "\n",
      "Default solver will be changed to 'lbfgs' in 0.22. Specify a solver to silence this warning.\n",
      "\n"
     ]
    },
    {
     "name": "stdout",
     "output_type": "stream",
     "text": [
      "Average AUC 0.6432333541463765 [0.6467410631326228, 0.633012877914418, 0.6499461213920888]\n",
      "185 16331.301280547921\n"
     ]
    },
    {
     "name": "stderr",
     "output_type": "stream",
     "text": [
      "/opt/conda/lib/python3.6/site-packages/sklearn/linear_model/logistic.py:432: FutureWarning:\n",
      "\n",
      "Default solver will be changed to 'lbfgs' in 0.22. Specify a solver to silence this warning.\n",
      "\n"
     ]
    },
    {
     "name": "stdout",
     "output_type": "stream",
     "text": [
      "Average AUC 0.6410101673611702 [0.644412816937265, 0.6296601321626897, 0.6489575529835561]\n",
      "190 16663.446074847958\n"
     ]
    },
    {
     "name": "stderr",
     "output_type": "stream",
     "text": [
      "/opt/conda/lib/python3.6/site-packages/sklearn/linear_model/logistic.py:432: FutureWarning:\n",
      "\n",
      "Default solver will be changed to 'lbfgs' in 0.22. Specify a solver to silence this warning.\n",
      "\n"
     ]
    },
    {
     "name": "stdout",
     "output_type": "stream",
     "text": [
      "Average AUC 0.640866512116831 [0.6436652403150827, 0.6305149274154747, 0.6484193686199354]\n",
      "195 16377.635130856233\n"
     ]
    },
    {
     "name": "stderr",
     "output_type": "stream",
     "text": [
      "/opt/conda/lib/python3.6/site-packages/sklearn/linear_model/logistic.py:432: FutureWarning:\n",
      "\n",
      "Default solver will be changed to 'lbfgs' in 0.22. Specify a solver to silence this warning.\n",
      "\n"
     ]
    },
    {
     "name": "stdout",
     "output_type": "stream",
     "text": [
      "Average AUC 0.6434111401504912 [0.6478733262289766, 0.6312660501027114, 0.6510940441197854]\n",
      "200 16388.769353734555\n"
     ]
    },
    {
     "name": "stderr",
     "output_type": "stream",
     "text": [
      "/opt/conda/lib/python3.6/site-packages/sklearn/linear_model/logistic.py:432: FutureWarning:\n",
      "\n",
      "Default solver will be changed to 'lbfgs' in 0.22. Specify a solver to silence this warning.\n",
      "\n"
     ]
    },
    {
     "name": "stdout",
     "output_type": "stream",
     "text": [
      "Average AUC 0.643306814326752 [0.6490262397874871, 0.6311512109218042, 0.6497429922709645]\n",
      "205 16340.698177192005\n"
     ]
    },
    {
     "name": "stderr",
     "output_type": "stream",
     "text": [
      "/opt/conda/lib/python3.6/site-packages/sklearn/linear_model/logistic.py:432: FutureWarning:\n",
      "\n",
      "Default solver will be changed to 'lbfgs' in 0.22. Specify a solver to silence this warning.\n",
      "\n"
     ]
    },
    {
     "name": "stdout",
     "output_type": "stream",
     "text": [
      "Average AUC 0.6449698736002188 [0.6488366989351934, 0.6333220039986247, 0.6527509178668384]\n",
      "210 16242.341261283851\n"
     ]
    },
    {
     "name": "stderr",
     "output_type": "stream",
     "text": [
      "/opt/conda/lib/python3.6/site-packages/sklearn/linear_model/logistic.py:432: FutureWarning:\n",
      "\n",
      "Default solver will be changed to 'lbfgs' in 0.22. Specify a solver to silence this warning.\n",
      "\n"
     ]
    },
    {
     "name": "stdout",
     "output_type": "stream",
     "text": [
      "Average AUC 0.6448723153971154 [0.6503745729788328, 0.6324331902318354, 0.6518091829806779]\n",
      "215 16231.422906236585\n"
     ]
    },
    {
     "name": "stderr",
     "output_type": "stream",
     "text": [
      "/opt/conda/lib/python3.6/site-packages/sklearn/linear_model/logistic.py:432: FutureWarning:\n",
      "\n",
      "Default solver will be changed to 'lbfgs' in 0.22. Specify a solver to silence this warning.\n",
      "\n"
     ]
    },
    {
     "name": "stdout",
     "output_type": "stream",
     "text": [
      "Average AUC 0.6455846519278677 [0.6507454094446098, 0.6316332975045665, 0.654375248834427]\n"
     ]
    }
   ],
   "source": [
    "def calc_auc():\n",
    "    train_features = []\n",
    "    train_labels = []\n",
    "    for r in train_data:\n",
    "        fe = []\n",
    "        fe.append(true_size_cust[user_index[r['user_id']]])\n",
    "        fe.append(true_size_item[item_index[r['item_id'] + '|' + str(r['size'])]])\n",
    "        try:\n",
    "            fe.append(r['quality'])\n",
    "        except:\n",
    "            fe.append(3.95)\n",
    "        try:\n",
    "            fe.append(func(r['height'].split()))\n",
    "        except:\n",
    "            fe.append(64.28)\n",
    "        train_features.append(fe)\n",
    "\n",
    "        if 'small' in r['fit']:\n",
    "            train_labels.append(0)\n",
    "        elif 'fit' in r['fit']:\n",
    "            train_labels.append(1)\n",
    "        elif 'large' in r['fit']:\n",
    "            train_labels.append(2)\n",
    "\n",
    "    c = 100\n",
    "    clf_1LV = LogisticRegression(fit_intercept=True, multi_class='ovr', C=c)\n",
    "    clf_1LV.fit(train_features, train_labels)\n",
    "\n",
    "    test_features = []; test_labels = []; test_labels_auc = []\n",
    "    for r in test_data:\n",
    "        fe = []\n",
    "        try:\n",
    "            fe.append(true_size_cust[user_index[r['user_id']]])\n",
    "        except KeyError:\n",
    "            fe.append(np.mean(true_size_cust))\n",
    "        try:\n",
    "            fe.append(true_size_item[item_index[r['item_id'] + '|' + str(r['size'])]])\n",
    "        except KeyError:\n",
    "            fe.append(np.mean(true_size_item))\n",
    "        try:\n",
    "            fe.append(r['quality'])\n",
    "        except:\n",
    "            fe.append(3.95)\n",
    "        try:\n",
    "            fe.append(func(r['height'].split()))\n",
    "        except:\n",
    "            fe.append(64.28)    \n",
    "\n",
    "        test_features.append(fe)\n",
    "        label = [0, 0, 0]\n",
    "        if 'small' in r['fit']:\n",
    "            test_labels.append(0)\n",
    "            label[0] = 1\n",
    "        elif 'fit' in r['fit']:\n",
    "            test_labels.append(1)\n",
    "            label[1] = 1\n",
    "        elif 'large' in r['fit']:\n",
    "            test_labels.append(2)\n",
    "            label[2] = 1\n",
    "        test_labels_auc.append(label)\n",
    "\n",
    "    test_labels_auc = np.array(test_labels_auc)\n",
    "\n",
    "    pred = clf_1LV.predict_proba(test_features)\n",
    "    AUC = []\n",
    "    for i in range(3):\n",
    "        AUC.append(roc_auc_score(test_labels_auc[:,i], pred[:,i], average='weighted'))\n",
    "    print('Average AUC', np.mean(AUC), AUC)\n",
    "    \n",
    "def f(s,t):\n",
    "    return w*(s-t)\n",
    "\n",
    "def cal_loss_user(user, cust_size):\n",
    "    loss = 0\n",
    "    for r in user_data[user]:\n",
    "        if 'small' in r['fit']:\n",
    "            loss += max(0, 1 - f(cust_size, true_size_item[item_index[r['item_id'] + '|' + str(r['size'])]]) + b_2)\n",
    "        elif 'fit' in r['fit']:\n",
    "            loss += max(0, 1 + f(cust_size, true_size_item[item_index[r['item_id'] + '|' + str(r['size'])]]) - b_2)\n",
    "            loss += max(0, 1 - f(cust_size, true_size_item[item_index[r['item_id'] + '|' + str(r['size'])]]) + b_1)\n",
    "        elif 'large' in r['fit']:\n",
    "            loss += max(0, 1 + f(cust_size, true_size_item[item_index[r['item_id'] + '|' + str(r['size'])]]) - b_1)\n",
    "    return loss\n",
    "            \n",
    "def cal_loss_item(item, product_size):\n",
    "    loss = 0\n",
    "    for r in item_data[item]:\n",
    "        if 'small' in r['fit']:\n",
    "            loss += max(0, 1 - f(true_size_cust[user_index[r['user_id']]], product_size) + b_2)\n",
    "        elif 'fit' in r['fit']:\n",
    "            loss += max(0, 1 + f(true_size_cust[user_index[r['user_id']]], product_size) - b_2)\n",
    "            loss += max(0, 1 - f(true_size_cust[user_index[r['user_id']]], product_size) + b_1)\n",
    "        elif 'large' in r['fit']:\n",
    "            loss += max(0, 1 + f(true_size_cust[user_index[r['user_id']]], product_size) - b_1)\n",
    "    return loss\n",
    "\n",
    "def total_loss():\n",
    "    loss = 0\n",
    "    for item in item_data:\n",
    "        for r in item_data[item]:\n",
    "            product_size = true_size_item[item_index[r['item_id'] + '|' + str(r['size'])]]\n",
    "            if 'small' in r['fit']:\n",
    "                loss += max(0, 1 - f(true_size_cust[user_index[r['user_id']]], product_size) + b_2)\n",
    "            elif 'fit' in r['fit']:\n",
    "                loss += max(0, 1 + f(true_size_cust[user_index[r['user_id']]], product_size) - b_2)\n",
    "                loss += max(0, 1 - f(true_size_cust[user_index[r['user_id']]], product_size) + b_1)\n",
    "            elif 'large' in r['fit']:\n",
    "                loss += max(0, 1 + f(true_size_cust[user_index[r['user_id']]], product_size) - b_1)\n",
    "    return loss\n",
    "\n",
    "for iterr in range(0,220):\n",
    "    \n",
    "    ## Phase 1\n",
    "    for user in user_data:\n",
    "        candidate_sizes = []\n",
    "        for r in user_data[user]:\n",
    "            if 'small' in r['fit']:\n",
    "                candidate_sizes.append(true_size_item[item_index[r['item_id'] + '|' + str(r['size'])]] + ((b_2+1)/w))\n",
    "            elif 'fit' in r['fit']:\n",
    "                candidate_sizes.append(true_size_item[item_index[r['item_id'] + '|' + str(r['size'])]] + ((b_1+1)/w))\n",
    "                candidate_sizes.append(true_size_item[item_index[r['item_id'] + '|' + str(r['size'])]] + ((b_2-1)/w))\n",
    "            elif 'large' in r['fit']:\n",
    "                candidate_sizes.append(true_size_item[item_index[r['item_id'] + '|' + str(r['size'])]] + ((b_1-1)/w))\n",
    "\n",
    "        flag = 0\n",
    "        candidate_sizes = list(set(candidate_sizes))\n",
    "        candidate_sizes = sorted(candidate_sizes)\n",
    "\n",
    "        if len(candidate_sizes) == 1:\n",
    "            true_size_cust[user_index[user]] = candidate_sizes[0]\n",
    "        else:\n",
    "            for s in range(1, len(candidate_sizes)):\n",
    "                slope = (cal_loss_user(user, candidate_sizes[s]) - cal_loss_user(user, candidate_sizes[s-1]))/(candidate_sizes[s] - candidate_sizes[s-1])\n",
    "                if slope>=0:\n",
    "                    flag=1\n",
    "                    true_size_cust[user_index[user]] = candidate_sizes[s-1]\n",
    "                    break\n",
    "\n",
    "            if flag==0:\n",
    "                true_size_cust[user_index[user]] = candidate_sizes[-1]\n",
    "\n",
    "    ## Phase 2\n",
    "    for item in item_data:\n",
    "        candidate_sizes = []\n",
    "        for r in item_data[item]:\n",
    "            if 'small' in r['fit']:\n",
    "                candidate_sizes.append(true_size_cust[user_index[r['user_id']]] - ((b_2+1)/w))\n",
    "            elif 'fit' in r['fit']:\n",
    "                candidate_sizes.append(true_size_cust[user_index[r['user_id']]] - ((b_1+1)/w))\n",
    "                candidate_sizes.append(true_size_cust[user_index[r['user_id']]] - ((b_2-1)/w))\n",
    "            elif 'large' in r['fit']:\n",
    "                candidate_sizes.append(true_size_cust[user_index[r['user_id']]] - ((b_1-1)/w))\n",
    "\n",
    "        flag = 0\n",
    "        candidate_sizes = list(set(candidate_sizes))\n",
    "        candidate_sizes = sorted(candidate_sizes)\n",
    "        if len(candidate_sizes) == 1:\n",
    "            true_size_item[item_index[item]] = candidate_sizes[0]\n",
    "        else:\n",
    "            for s in range(1, len(candidate_sizes)):\n",
    "                slope = (cal_loss_item(item, candidate_sizes[s]) - cal_loss_item(item, candidate_sizes[s-1]))/(candidate_sizes[s] - candidate_sizes[s-1])\n",
    "                if slope>=0:\n",
    "                    flag=1\n",
    "                    true_size_item[item_index[item]] = candidate_sizes[s-1]\n",
    "                    break\n",
    "\n",
    "            if flag==0:\n",
    "                true_size_item[item_index[item]] = candidate_sizes[-1]\n",
    "\n",
    "    ## Phase 3\n",
    "    learning_rate = 0.0000005/np.sqrt(iterr+1)\n",
    "    grad_w = 0\n",
    "    grad_b1 = 0\n",
    "    grad_b2 = 0\n",
    "    for r in train_data:\n",
    "        s = true_size_cust[user_index[r['user_id']]]\n",
    "        t = true_size_item[item_index[r['item_id'] + '|' + str(r['size'])]]\n",
    "\n",
    "        if 'small' in r['fit']:\n",
    "            A = 1 - f(s, t) + b_2\n",
    "            if A>0:\n",
    "                grad_w += -1*(s - t)\n",
    "                grad_b2 += 1\n",
    "        elif 'fit' in r['fit']:\n",
    "            B = 1 + f(s, t) - b_2\n",
    "            C = 1 - f(s, t) + b_1\n",
    "            if B>0:\n",
    "                grad_w += (s - t)\n",
    "                grad_b2 += -1\n",
    "            if C>0:\n",
    "                grad_w += -1*(s - t)\n",
    "                grad_b1 += 1\n",
    "        elif 'large' in r['fit']:\n",
    "            D = 1 + f(s, t) - b_1\n",
    "            if D>0:\n",
    "                grad_w += (s - t)\n",
    "                grad_b1 += -1\n",
    "\n",
    "    w -= learning_rate*(grad_w + 2*lamda*w)\n",
    "    b_1 -= learning_rate*(grad_b1 + 2*lamda*b_1)\n",
    "    b_2 -= learning_rate*(grad_b2 + 2*lamda*b_2)\n",
    "    if iterr%5 == 0:\n",
    "        print(iterr, total_loss())\n",
    "        calc_auc()"
   ]
  },
  {
   "cell_type": "code",
   "execution_count": 186,
   "metadata": {},
   "outputs": [
    {
     "name": "stderr",
     "output_type": "stream",
     "text": [
      "/opt/conda/lib/python3.6/site-packages/sklearn/linear_model/logistic.py:432: FutureWarning: Default solver will be changed to 'lbfgs' in 0.22. Specify a solver to silence this warning.\n",
      "  FutureWarning)\n"
     ]
    },
    {
     "name": "stdout",
     "output_type": "stream",
     "text": [
      "Average AUC 0.6232524604306696 [0.6264286048282443, 0.6090693898590719, 0.6342593866046927]\n"
     ]
    }
   ],
   "source": [
    "train_features = []; train_labels = []\n",
    "for r in train_data:\n",
    "    fe = []\n",
    "    fe.append(true_size_cust[user_index[r['user_id']]])\n",
    "    fe.append(true_size_item[item_index[r['item_id'] + '|' + str(r['size'])]])\n",
    "    try:\n",
    "        fe.append(r['quality'])\n",
    "    except:\n",
    "        fe.append(3.95)\n",
    "    try:\n",
    "        fe.append(func(r['height'].split()))\n",
    "    except:\n",
    "        fe.append(64.28)        \n",
    "    train_features.append(fe)\n",
    "\n",
    "    if 'small' in r['fit']:\n",
    "        train_labels.append(0)\n",
    "    elif 'fit' in r['fit']:\n",
    "        train_labels.append(1)\n",
    "    elif 'large' in r['fit']:\n",
    "        train_labels.append(2)\n",
    "\n",
    "c = 100\n",
    "clf_1LV = LogisticRegression(fit_intercept=True, multi_class='ovr', C=c)\n",
    "clf_1LV.fit(train_features, train_labels)\n",
    "\n",
    "test_features = []; test_labels = []; test_labels_auc = []\n",
    "for r in val_data:\n",
    "    fe = []\n",
    "    try:\n",
    "        u = user_index[r['user_id']]\n",
    "        fe.append(true_size_cust[u])\n",
    "    except KeyError:\n",
    "        fe.append(np.mean(true_size_cust))\n",
    "    try:\n",
    "        fe.append(true_size_item[item_index[r['item_id'] + '|' + str(r['size'])]])\n",
    "    except KeyError:\n",
    "        fe.append(np.mean(true_size_item))\n",
    "    try:\n",
    "        fe.append(r['quality'])\n",
    "    except:\n",
    "        fe.append(3.95)\n",
    "    try:\n",
    "        fe.append(func(r['height'].split()))\n",
    "    except:\n",
    "        fe.append(64.28)                     \n",
    "    test_features.append(fe)\n",
    "    label = [0, 0, 0]\n",
    "    if 'small' in r['fit']:\n",
    "        test_labels.append(0)\n",
    "        label[0] = 1\n",
    "    elif 'fit' in r['fit']:\n",
    "        test_labels.append(1)\n",
    "        label[1] = 1\n",
    "    elif 'large' in r['fit']:\n",
    "        test_labels.append(2)\n",
    "        label[2] = 1\n",
    "    test_labels_auc.append(label)\n",
    "\n",
    "test_labels_auc = np.array(test_labels_auc)\n",
    "\n",
    "pred = clf_1LV.predict_proba(test_features)\n",
    "AUC = []\n",
    "for i in range(3):\n",
    "    AUC.append(roc_auc_score(test_labels_auc[:,i], pred[:,i], average='weighted'))\n",
    "print('Average AUC', np.mean(AUC), AUC)"
   ]
  },
  {
   "cell_type": "markdown",
   "metadata": {},
   "source": [
    "base\n",
    "\n",
    "Average AUC 0.5954133904825681 [0.5958294030975526, 0.5577001999854292, 0.6327105683647226]\n",
    "\n",
    "with quality\n",
    "\n",
    "Average AUC 0.6230716920518676 [0.626021897635188, 0.6089814591630749, 0.6342117193573399]\n",
    "\n",
    "with quality and height\n",
    "\n",
    "Average AUC 0.6232507416825211 [0.6264257709166112, 0.6090664417576013, 0.634260012373351]"
   ]
  },
  {
   "cell_type": "code",
   "execution_count": 203,
   "metadata": {},
   "outputs": [
    {
     "data": {
      "application/vnd.plotly.v1+json": {
       "config": {
        "plotlyServerURL": "https://plot.ly"
       },
       "data": [
        {
         "alignmentgroup": "True",
         "hoverlabel": {
          "namelength": 0
         },
         "hovertemplate": "type=%{x}<br>Avg AUC=%{text}",
         "legendgroup": "",
         "marker": {
          "color": "#636efa"
         },
         "name": "",
         "offsetgroup": "",
         "orientation": "v",
         "showlegend": false,
         "text": [
          0.595,
          0.62325
         ],
         "textposition": "auto",
         "type": "bar",
         "x": [
          "feature set 2",
          "combined feature sets"
         ],
         "xaxis": "x",
         "y": [
          0.595,
          0.62325
         ],
         "yaxis": "y"
        }
       ],
       "layout": {
        "barmode": "relative",
        "height": 600,
        "legend": {
         "tracegroupgap": 0
        },
        "margin": {
         "t": 60
        },
        "template": {
         "data": {
          "bar": [
           {
            "error_x": {
             "color": "#2a3f5f"
            },
            "error_y": {
             "color": "#2a3f5f"
            },
            "marker": {
             "line": {
              "color": "#E5ECF6",
              "width": 0.5
             }
            },
            "type": "bar"
           }
          ],
          "barpolar": [
           {
            "marker": {
             "line": {
              "color": "#E5ECF6",
              "width": 0.5
             }
            },
            "type": "barpolar"
           }
          ],
          "carpet": [
           {
            "aaxis": {
             "endlinecolor": "#2a3f5f",
             "gridcolor": "white",
             "linecolor": "white",
             "minorgridcolor": "white",
             "startlinecolor": "#2a3f5f"
            },
            "baxis": {
             "endlinecolor": "#2a3f5f",
             "gridcolor": "white",
             "linecolor": "white",
             "minorgridcolor": "white",
             "startlinecolor": "#2a3f5f"
            },
            "type": "carpet"
           }
          ],
          "choropleth": [
           {
            "colorbar": {
             "outlinewidth": 0,
             "ticks": ""
            },
            "type": "choropleth"
           }
          ],
          "contour": [
           {
            "colorbar": {
             "outlinewidth": 0,
             "ticks": ""
            },
            "colorscale": [
             [
              0,
              "#0d0887"
             ],
             [
              0.1111111111111111,
              "#46039f"
             ],
             [
              0.2222222222222222,
              "#7201a8"
             ],
             [
              0.3333333333333333,
              "#9c179e"
             ],
             [
              0.4444444444444444,
              "#bd3786"
             ],
             [
              0.5555555555555556,
              "#d8576b"
             ],
             [
              0.6666666666666666,
              "#ed7953"
             ],
             [
              0.7777777777777778,
              "#fb9f3a"
             ],
             [
              0.8888888888888888,
              "#fdca26"
             ],
             [
              1,
              "#f0f921"
             ]
            ],
            "type": "contour"
           }
          ],
          "contourcarpet": [
           {
            "colorbar": {
             "outlinewidth": 0,
             "ticks": ""
            },
            "type": "contourcarpet"
           }
          ],
          "heatmap": [
           {
            "colorbar": {
             "outlinewidth": 0,
             "ticks": ""
            },
            "colorscale": [
             [
              0,
              "#0d0887"
             ],
             [
              0.1111111111111111,
              "#46039f"
             ],
             [
              0.2222222222222222,
              "#7201a8"
             ],
             [
              0.3333333333333333,
              "#9c179e"
             ],
             [
              0.4444444444444444,
              "#bd3786"
             ],
             [
              0.5555555555555556,
              "#d8576b"
             ],
             [
              0.6666666666666666,
              "#ed7953"
             ],
             [
              0.7777777777777778,
              "#fb9f3a"
             ],
             [
              0.8888888888888888,
              "#fdca26"
             ],
             [
              1,
              "#f0f921"
             ]
            ],
            "type": "heatmap"
           }
          ],
          "heatmapgl": [
           {
            "colorbar": {
             "outlinewidth": 0,
             "ticks": ""
            },
            "colorscale": [
             [
              0,
              "#0d0887"
             ],
             [
              0.1111111111111111,
              "#46039f"
             ],
             [
              0.2222222222222222,
              "#7201a8"
             ],
             [
              0.3333333333333333,
              "#9c179e"
             ],
             [
              0.4444444444444444,
              "#bd3786"
             ],
             [
              0.5555555555555556,
              "#d8576b"
             ],
             [
              0.6666666666666666,
              "#ed7953"
             ],
             [
              0.7777777777777778,
              "#fb9f3a"
             ],
             [
              0.8888888888888888,
              "#fdca26"
             ],
             [
              1,
              "#f0f921"
             ]
            ],
            "type": "heatmapgl"
           }
          ],
          "histogram": [
           {
            "marker": {
             "colorbar": {
              "outlinewidth": 0,
              "ticks": ""
             }
            },
            "type": "histogram"
           }
          ],
          "histogram2d": [
           {
            "colorbar": {
             "outlinewidth": 0,
             "ticks": ""
            },
            "colorscale": [
             [
              0,
              "#0d0887"
             ],
             [
              0.1111111111111111,
              "#46039f"
             ],
             [
              0.2222222222222222,
              "#7201a8"
             ],
             [
              0.3333333333333333,
              "#9c179e"
             ],
             [
              0.4444444444444444,
              "#bd3786"
             ],
             [
              0.5555555555555556,
              "#d8576b"
             ],
             [
              0.6666666666666666,
              "#ed7953"
             ],
             [
              0.7777777777777778,
              "#fb9f3a"
             ],
             [
              0.8888888888888888,
              "#fdca26"
             ],
             [
              1,
              "#f0f921"
             ]
            ],
            "type": "histogram2d"
           }
          ],
          "histogram2dcontour": [
           {
            "colorbar": {
             "outlinewidth": 0,
             "ticks": ""
            },
            "colorscale": [
             [
              0,
              "#0d0887"
             ],
             [
              0.1111111111111111,
              "#46039f"
             ],
             [
              0.2222222222222222,
              "#7201a8"
             ],
             [
              0.3333333333333333,
              "#9c179e"
             ],
             [
              0.4444444444444444,
              "#bd3786"
             ],
             [
              0.5555555555555556,
              "#d8576b"
             ],
             [
              0.6666666666666666,
              "#ed7953"
             ],
             [
              0.7777777777777778,
              "#fb9f3a"
             ],
             [
              0.8888888888888888,
              "#fdca26"
             ],
             [
              1,
              "#f0f921"
             ]
            ],
            "type": "histogram2dcontour"
           }
          ],
          "mesh3d": [
           {
            "colorbar": {
             "outlinewidth": 0,
             "ticks": ""
            },
            "type": "mesh3d"
           }
          ],
          "parcoords": [
           {
            "line": {
             "colorbar": {
              "outlinewidth": 0,
              "ticks": ""
             }
            },
            "type": "parcoords"
           }
          ],
          "pie": [
           {
            "automargin": true,
            "type": "pie"
           }
          ],
          "scatter": [
           {
            "marker": {
             "colorbar": {
              "outlinewidth": 0,
              "ticks": ""
             }
            },
            "type": "scatter"
           }
          ],
          "scatter3d": [
           {
            "line": {
             "colorbar": {
              "outlinewidth": 0,
              "ticks": ""
             }
            },
            "marker": {
             "colorbar": {
              "outlinewidth": 0,
              "ticks": ""
             }
            },
            "type": "scatter3d"
           }
          ],
          "scattercarpet": [
           {
            "marker": {
             "colorbar": {
              "outlinewidth": 0,
              "ticks": ""
             }
            },
            "type": "scattercarpet"
           }
          ],
          "scattergeo": [
           {
            "marker": {
             "colorbar": {
              "outlinewidth": 0,
              "ticks": ""
             }
            },
            "type": "scattergeo"
           }
          ],
          "scattergl": [
           {
            "marker": {
             "colorbar": {
              "outlinewidth": 0,
              "ticks": ""
             }
            },
            "type": "scattergl"
           }
          ],
          "scattermapbox": [
           {
            "marker": {
             "colorbar": {
              "outlinewidth": 0,
              "ticks": ""
             }
            },
            "type": "scattermapbox"
           }
          ],
          "scatterpolar": [
           {
            "marker": {
             "colorbar": {
              "outlinewidth": 0,
              "ticks": ""
             }
            },
            "type": "scatterpolar"
           }
          ],
          "scatterpolargl": [
           {
            "marker": {
             "colorbar": {
              "outlinewidth": 0,
              "ticks": ""
             }
            },
            "type": "scatterpolargl"
           }
          ],
          "scatterternary": [
           {
            "marker": {
             "colorbar": {
              "outlinewidth": 0,
              "ticks": ""
             }
            },
            "type": "scatterternary"
           }
          ],
          "surface": [
           {
            "colorbar": {
             "outlinewidth": 0,
             "ticks": ""
            },
            "colorscale": [
             [
              0,
              "#0d0887"
             ],
             [
              0.1111111111111111,
              "#46039f"
             ],
             [
              0.2222222222222222,
              "#7201a8"
             ],
             [
              0.3333333333333333,
              "#9c179e"
             ],
             [
              0.4444444444444444,
              "#bd3786"
             ],
             [
              0.5555555555555556,
              "#d8576b"
             ],
             [
              0.6666666666666666,
              "#ed7953"
             ],
             [
              0.7777777777777778,
              "#fb9f3a"
             ],
             [
              0.8888888888888888,
              "#fdca26"
             ],
             [
              1,
              "#f0f921"
             ]
            ],
            "type": "surface"
           }
          ],
          "table": [
           {
            "cells": {
             "fill": {
              "color": "#EBF0F8"
             },
             "line": {
              "color": "white"
             }
            },
            "header": {
             "fill": {
              "color": "#C8D4E3"
             },
             "line": {
              "color": "white"
             }
            },
            "type": "table"
           }
          ]
         },
         "layout": {
          "annotationdefaults": {
           "arrowcolor": "#2a3f5f",
           "arrowhead": 0,
           "arrowwidth": 1
          },
          "coloraxis": {
           "colorbar": {
            "outlinewidth": 0,
            "ticks": ""
           }
          },
          "colorscale": {
           "diverging": [
            [
             0,
             "#8e0152"
            ],
            [
             0.1,
             "#c51b7d"
            ],
            [
             0.2,
             "#de77ae"
            ],
            [
             0.3,
             "#f1b6da"
            ],
            [
             0.4,
             "#fde0ef"
            ],
            [
             0.5,
             "#f7f7f7"
            ],
            [
             0.6,
             "#e6f5d0"
            ],
            [
             0.7,
             "#b8e186"
            ],
            [
             0.8,
             "#7fbc41"
            ],
            [
             0.9,
             "#4d9221"
            ],
            [
             1,
             "#276419"
            ]
           ],
           "sequential": [
            [
             0,
             "#0d0887"
            ],
            [
             0.1111111111111111,
             "#46039f"
            ],
            [
             0.2222222222222222,
             "#7201a8"
            ],
            [
             0.3333333333333333,
             "#9c179e"
            ],
            [
             0.4444444444444444,
             "#bd3786"
            ],
            [
             0.5555555555555556,
             "#d8576b"
            ],
            [
             0.6666666666666666,
             "#ed7953"
            ],
            [
             0.7777777777777778,
             "#fb9f3a"
            ],
            [
             0.8888888888888888,
             "#fdca26"
            ],
            [
             1,
             "#f0f921"
            ]
           ],
           "sequentialminus": [
            [
             0,
             "#0d0887"
            ],
            [
             0.1111111111111111,
             "#46039f"
            ],
            [
             0.2222222222222222,
             "#7201a8"
            ],
            [
             0.3333333333333333,
             "#9c179e"
            ],
            [
             0.4444444444444444,
             "#bd3786"
            ],
            [
             0.5555555555555556,
             "#d8576b"
            ],
            [
             0.6666666666666666,
             "#ed7953"
            ],
            [
             0.7777777777777778,
             "#fb9f3a"
            ],
            [
             0.8888888888888888,
             "#fdca26"
            ],
            [
             1,
             "#f0f921"
            ]
           ]
          },
          "colorway": [
           "#636efa",
           "#EF553B",
           "#00cc96",
           "#ab63fa",
           "#FFA15A",
           "#19d3f3",
           "#FF6692",
           "#B6E880",
           "#FF97FF",
           "#FECB52"
          ],
          "font": {
           "color": "#2a3f5f"
          },
          "geo": {
           "bgcolor": "white",
           "lakecolor": "white",
           "landcolor": "#E5ECF6",
           "showlakes": true,
           "showland": true,
           "subunitcolor": "white"
          },
          "hoverlabel": {
           "align": "left"
          },
          "hovermode": "closest",
          "mapbox": {
           "style": "light"
          },
          "paper_bgcolor": "white",
          "plot_bgcolor": "#E5ECF6",
          "polar": {
           "angularaxis": {
            "gridcolor": "white",
            "linecolor": "white",
            "ticks": ""
           },
           "bgcolor": "#E5ECF6",
           "radialaxis": {
            "gridcolor": "white",
            "linecolor": "white",
            "ticks": ""
           }
          },
          "scene": {
           "xaxis": {
            "backgroundcolor": "#E5ECF6",
            "gridcolor": "white",
            "gridwidth": 2,
            "linecolor": "white",
            "showbackground": true,
            "ticks": "",
            "zerolinecolor": "white"
           },
           "yaxis": {
            "backgroundcolor": "#E5ECF6",
            "gridcolor": "white",
            "gridwidth": 2,
            "linecolor": "white",
            "showbackground": true,
            "ticks": "",
            "zerolinecolor": "white"
           },
           "zaxis": {
            "backgroundcolor": "#E5ECF6",
            "gridcolor": "white",
            "gridwidth": 2,
            "linecolor": "white",
            "showbackground": true,
            "ticks": "",
            "zerolinecolor": "white"
           }
          },
          "shapedefaults": {
           "line": {
            "color": "#2a3f5f"
           }
          },
          "ternary": {
           "aaxis": {
            "gridcolor": "white",
            "linecolor": "white",
            "ticks": ""
           },
           "baxis": {
            "gridcolor": "white",
            "linecolor": "white",
            "ticks": ""
           },
           "bgcolor": "#E5ECF6",
           "caxis": {
            "gridcolor": "white",
            "linecolor": "white",
            "ticks": ""
           }
          },
          "title": {
           "x": 0.05
          },
          "xaxis": {
           "automargin": true,
           "gridcolor": "white",
           "linecolor": "white",
           "ticks": "",
           "title": {
            "standoff": 15
           },
           "zerolinecolor": "white",
           "zerolinewidth": 2
          },
          "yaxis": {
           "automargin": true,
           "gridcolor": "white",
           "linecolor": "white",
           "ticks": "",
           "title": {
            "standoff": 15
           },
           "zerolinecolor": "white",
           "zerolinewidth": 2
          }
         }
        },
        "xaxis": {
         "anchor": "y",
         "domain": [
          0,
          1
         ],
         "title": {
          "text": "type"
         }
        },
        "yaxis": {
         "anchor": "x",
         "domain": [
          0,
          1
         ],
         "title": {
          "text": "Avg AUC"
         },
         "type": "log"
        }
       }
      },
      "text/html": [
       "<div>\n",
       "        \n",
       "        \n",
       "            <div id=\"35d20722-ac7a-4d70-a570-f2fc7835dd1a\" class=\"plotly-graph-div\" style=\"height:600px; width:100%;\"></div>\n",
       "            <script type=\"text/javascript\">\n",
       "                require([\"plotly\"], function(Plotly) {\n",
       "                    window.PLOTLYENV=window.PLOTLYENV || {};\n",
       "                    \n",
       "                if (document.getElementById(\"35d20722-ac7a-4d70-a570-f2fc7835dd1a\")) {\n",
       "                    Plotly.newPlot(\n",
       "                        '35d20722-ac7a-4d70-a570-f2fc7835dd1a',\n",
       "                        [{\"alignmentgroup\": \"True\", \"hoverlabel\": {\"namelength\": 0}, \"hovertemplate\": \"type=%{x}<br>Avg AUC=%{text}\", \"legendgroup\": \"\", \"marker\": {\"color\": \"#636efa\"}, \"name\": \"\", \"offsetgroup\": \"\", \"orientation\": \"v\", \"showlegend\": false, \"text\": [0.595, 0.62325], \"textposition\": \"auto\", \"type\": \"bar\", \"x\": [\"feature set 2\", \"combined feature sets\"], \"xaxis\": \"x\", \"y\": [0.595, 0.62325], \"yaxis\": \"y\"}],\n",
       "                        {\"barmode\": \"relative\", \"height\": 600, \"legend\": {\"tracegroupgap\": 0}, \"margin\": {\"t\": 60}, \"template\": {\"data\": {\"bar\": [{\"error_x\": {\"color\": \"#2a3f5f\"}, \"error_y\": {\"color\": \"#2a3f5f\"}, \"marker\": {\"line\": {\"color\": \"#E5ECF6\", \"width\": 0.5}}, \"type\": \"bar\"}], \"barpolar\": [{\"marker\": {\"line\": {\"color\": \"#E5ECF6\", \"width\": 0.5}}, \"type\": \"barpolar\"}], \"carpet\": [{\"aaxis\": {\"endlinecolor\": \"#2a3f5f\", \"gridcolor\": \"white\", \"linecolor\": \"white\", \"minorgridcolor\": \"white\", \"startlinecolor\": \"#2a3f5f\"}, \"baxis\": {\"endlinecolor\": \"#2a3f5f\", \"gridcolor\": \"white\", \"linecolor\": \"white\", \"minorgridcolor\": \"white\", \"startlinecolor\": \"#2a3f5f\"}, \"type\": \"carpet\"}], \"choropleth\": [{\"colorbar\": {\"outlinewidth\": 0, \"ticks\": \"\"}, \"type\": \"choropleth\"}], \"contour\": [{\"colorbar\": {\"outlinewidth\": 0, \"ticks\": \"\"}, \"colorscale\": [[0.0, \"#0d0887\"], [0.1111111111111111, \"#46039f\"], [0.2222222222222222, \"#7201a8\"], [0.3333333333333333, \"#9c179e\"], [0.4444444444444444, \"#bd3786\"], [0.5555555555555556, \"#d8576b\"], [0.6666666666666666, \"#ed7953\"], [0.7777777777777778, \"#fb9f3a\"], [0.8888888888888888, \"#fdca26\"], [1.0, \"#f0f921\"]], \"type\": \"contour\"}], \"contourcarpet\": [{\"colorbar\": {\"outlinewidth\": 0, \"ticks\": \"\"}, \"type\": \"contourcarpet\"}], \"heatmap\": [{\"colorbar\": {\"outlinewidth\": 0, \"ticks\": \"\"}, \"colorscale\": [[0.0, \"#0d0887\"], [0.1111111111111111, \"#46039f\"], [0.2222222222222222, \"#7201a8\"], [0.3333333333333333, \"#9c179e\"], [0.4444444444444444, \"#bd3786\"], [0.5555555555555556, \"#d8576b\"], [0.6666666666666666, \"#ed7953\"], [0.7777777777777778, \"#fb9f3a\"], [0.8888888888888888, \"#fdca26\"], [1.0, \"#f0f921\"]], \"type\": \"heatmap\"}], \"heatmapgl\": [{\"colorbar\": {\"outlinewidth\": 0, \"ticks\": \"\"}, \"colorscale\": [[0.0, \"#0d0887\"], [0.1111111111111111, \"#46039f\"], [0.2222222222222222, \"#7201a8\"], [0.3333333333333333, \"#9c179e\"], [0.4444444444444444, \"#bd3786\"], [0.5555555555555556, \"#d8576b\"], [0.6666666666666666, \"#ed7953\"], [0.7777777777777778, \"#fb9f3a\"], [0.8888888888888888, \"#fdca26\"], [1.0, \"#f0f921\"]], \"type\": \"heatmapgl\"}], \"histogram\": [{\"marker\": {\"colorbar\": {\"outlinewidth\": 0, \"ticks\": \"\"}}, \"type\": \"histogram\"}], \"histogram2d\": [{\"colorbar\": {\"outlinewidth\": 0, \"ticks\": \"\"}, \"colorscale\": [[0.0, \"#0d0887\"], [0.1111111111111111, \"#46039f\"], [0.2222222222222222, \"#7201a8\"], [0.3333333333333333, \"#9c179e\"], [0.4444444444444444, \"#bd3786\"], [0.5555555555555556, \"#d8576b\"], [0.6666666666666666, \"#ed7953\"], [0.7777777777777778, \"#fb9f3a\"], [0.8888888888888888, \"#fdca26\"], [1.0, \"#f0f921\"]], \"type\": \"histogram2d\"}], \"histogram2dcontour\": [{\"colorbar\": {\"outlinewidth\": 0, \"ticks\": \"\"}, \"colorscale\": [[0.0, \"#0d0887\"], [0.1111111111111111, \"#46039f\"], [0.2222222222222222, \"#7201a8\"], [0.3333333333333333, \"#9c179e\"], [0.4444444444444444, \"#bd3786\"], [0.5555555555555556, \"#d8576b\"], [0.6666666666666666, \"#ed7953\"], [0.7777777777777778, \"#fb9f3a\"], [0.8888888888888888, \"#fdca26\"], [1.0, \"#f0f921\"]], \"type\": \"histogram2dcontour\"}], \"mesh3d\": [{\"colorbar\": {\"outlinewidth\": 0, \"ticks\": \"\"}, \"type\": \"mesh3d\"}], \"parcoords\": [{\"line\": {\"colorbar\": {\"outlinewidth\": 0, \"ticks\": \"\"}}, \"type\": \"parcoords\"}], \"pie\": [{\"automargin\": true, \"type\": \"pie\"}], \"scatter\": [{\"marker\": {\"colorbar\": {\"outlinewidth\": 0, \"ticks\": \"\"}}, \"type\": \"scatter\"}], \"scatter3d\": [{\"line\": {\"colorbar\": {\"outlinewidth\": 0, \"ticks\": \"\"}}, \"marker\": {\"colorbar\": {\"outlinewidth\": 0, \"ticks\": \"\"}}, \"type\": \"scatter3d\"}], \"scattercarpet\": [{\"marker\": {\"colorbar\": {\"outlinewidth\": 0, \"ticks\": \"\"}}, \"type\": \"scattercarpet\"}], \"scattergeo\": [{\"marker\": {\"colorbar\": {\"outlinewidth\": 0, \"ticks\": \"\"}}, \"type\": \"scattergeo\"}], \"scattergl\": [{\"marker\": {\"colorbar\": {\"outlinewidth\": 0, \"ticks\": \"\"}}, \"type\": \"scattergl\"}], \"scattermapbox\": [{\"marker\": {\"colorbar\": {\"outlinewidth\": 0, \"ticks\": \"\"}}, \"type\": \"scattermapbox\"}], \"scatterpolar\": [{\"marker\": {\"colorbar\": {\"outlinewidth\": 0, \"ticks\": \"\"}}, \"type\": \"scatterpolar\"}], \"scatterpolargl\": [{\"marker\": {\"colorbar\": {\"outlinewidth\": 0, \"ticks\": \"\"}}, \"type\": \"scatterpolargl\"}], \"scatterternary\": [{\"marker\": {\"colorbar\": {\"outlinewidth\": 0, \"ticks\": \"\"}}, \"type\": \"scatterternary\"}], \"surface\": [{\"colorbar\": {\"outlinewidth\": 0, \"ticks\": \"\"}, \"colorscale\": [[0.0, \"#0d0887\"], [0.1111111111111111, \"#46039f\"], [0.2222222222222222, \"#7201a8\"], [0.3333333333333333, \"#9c179e\"], [0.4444444444444444, \"#bd3786\"], [0.5555555555555556, \"#d8576b\"], [0.6666666666666666, \"#ed7953\"], [0.7777777777777778, \"#fb9f3a\"], [0.8888888888888888, \"#fdca26\"], [1.0, \"#f0f921\"]], \"type\": \"surface\"}], \"table\": [{\"cells\": {\"fill\": {\"color\": \"#EBF0F8\"}, \"line\": {\"color\": \"white\"}}, \"header\": {\"fill\": {\"color\": \"#C8D4E3\"}, \"line\": {\"color\": \"white\"}}, \"type\": \"table\"}]}, \"layout\": {\"annotationdefaults\": {\"arrowcolor\": \"#2a3f5f\", \"arrowhead\": 0, \"arrowwidth\": 1}, \"coloraxis\": {\"colorbar\": {\"outlinewidth\": 0, \"ticks\": \"\"}}, \"colorscale\": {\"diverging\": [[0, \"#8e0152\"], [0.1, \"#c51b7d\"], [0.2, \"#de77ae\"], [0.3, \"#f1b6da\"], [0.4, \"#fde0ef\"], [0.5, \"#f7f7f7\"], [0.6, \"#e6f5d0\"], [0.7, \"#b8e186\"], [0.8, \"#7fbc41\"], [0.9, \"#4d9221\"], [1, \"#276419\"]], \"sequential\": [[0.0, \"#0d0887\"], [0.1111111111111111, \"#46039f\"], [0.2222222222222222, \"#7201a8\"], [0.3333333333333333, \"#9c179e\"], [0.4444444444444444, \"#bd3786\"], [0.5555555555555556, \"#d8576b\"], [0.6666666666666666, \"#ed7953\"], [0.7777777777777778, \"#fb9f3a\"], [0.8888888888888888, \"#fdca26\"], [1.0, \"#f0f921\"]], \"sequentialminus\": [[0.0, \"#0d0887\"], [0.1111111111111111, \"#46039f\"], [0.2222222222222222, \"#7201a8\"], [0.3333333333333333, \"#9c179e\"], [0.4444444444444444, \"#bd3786\"], [0.5555555555555556, \"#d8576b\"], [0.6666666666666666, \"#ed7953\"], [0.7777777777777778, \"#fb9f3a\"], [0.8888888888888888, \"#fdca26\"], [1.0, \"#f0f921\"]]}, \"colorway\": [\"#636efa\", \"#EF553B\", \"#00cc96\", \"#ab63fa\", \"#FFA15A\", \"#19d3f3\", \"#FF6692\", \"#B6E880\", \"#FF97FF\", \"#FECB52\"], \"font\": {\"color\": \"#2a3f5f\"}, \"geo\": {\"bgcolor\": \"white\", \"lakecolor\": \"white\", \"landcolor\": \"#E5ECF6\", \"showlakes\": true, \"showland\": true, \"subunitcolor\": \"white\"}, \"hoverlabel\": {\"align\": \"left\"}, \"hovermode\": \"closest\", \"mapbox\": {\"style\": \"light\"}, \"paper_bgcolor\": \"white\", \"plot_bgcolor\": \"#E5ECF6\", \"polar\": {\"angularaxis\": {\"gridcolor\": \"white\", \"linecolor\": \"white\", \"ticks\": \"\"}, \"bgcolor\": \"#E5ECF6\", \"radialaxis\": {\"gridcolor\": \"white\", \"linecolor\": \"white\", \"ticks\": \"\"}}, \"scene\": {\"xaxis\": {\"backgroundcolor\": \"#E5ECF6\", \"gridcolor\": \"white\", \"gridwidth\": 2, \"linecolor\": \"white\", \"showbackground\": true, \"ticks\": \"\", \"zerolinecolor\": \"white\"}, \"yaxis\": {\"backgroundcolor\": \"#E5ECF6\", \"gridcolor\": \"white\", \"gridwidth\": 2, \"linecolor\": \"white\", \"showbackground\": true, \"ticks\": \"\", \"zerolinecolor\": \"white\"}, \"zaxis\": {\"backgroundcolor\": \"#E5ECF6\", \"gridcolor\": \"white\", \"gridwidth\": 2, \"linecolor\": \"white\", \"showbackground\": true, \"ticks\": \"\", \"zerolinecolor\": \"white\"}}, \"shapedefaults\": {\"line\": {\"color\": \"#2a3f5f\"}}, \"ternary\": {\"aaxis\": {\"gridcolor\": \"white\", \"linecolor\": \"white\", \"ticks\": \"\"}, \"baxis\": {\"gridcolor\": \"white\", \"linecolor\": \"white\", \"ticks\": \"\"}, \"bgcolor\": \"#E5ECF6\", \"caxis\": {\"gridcolor\": \"white\", \"linecolor\": \"white\", \"ticks\": \"\"}}, \"title\": {\"x\": 0.05}, \"xaxis\": {\"automargin\": true, \"gridcolor\": \"white\", \"linecolor\": \"white\", \"ticks\": \"\", \"title\": {\"standoff\": 15}, \"zerolinecolor\": \"white\", \"zerolinewidth\": 2}, \"yaxis\": {\"automargin\": true, \"gridcolor\": \"white\", \"linecolor\": \"white\", \"ticks\": \"\", \"title\": {\"standoff\": 15}, \"zerolinecolor\": \"white\", \"zerolinewidth\": 2}}}, \"xaxis\": {\"anchor\": \"y\", \"domain\": [0.0, 1.0], \"title\": {\"text\": \"type\"}}, \"yaxis\": {\"anchor\": \"x\", \"domain\": [0.0, 1.0], \"title\": {\"text\": \"Avg AUC\"}, \"type\": \"log\"}},\n",
       "                        {\"responsive\": true}\n",
       "                    ).then(function(){\n",
       "                            \n",
       "var gd = document.getElementById('35d20722-ac7a-4d70-a570-f2fc7835dd1a');\n",
       "var x = new MutationObserver(function (mutations, observer) {{\n",
       "        var display = window.getComputedStyle(gd).display;\n",
       "        if (!display || display === 'none') {{\n",
       "            console.log([gd, 'removed!']);\n",
       "            Plotly.purge(gd);\n",
       "            observer.disconnect();\n",
       "        }}\n",
       "}});\n",
       "\n",
       "// Listen for the removal of the full notebook cells\n",
       "var notebookContainer = gd.closest('#notebook-container');\n",
       "if (notebookContainer) {{\n",
       "    x.observe(notebookContainer, {childList: true});\n",
       "}}\n",
       "\n",
       "// Listen for the clearing of the current output cell\n",
       "var outputEl = gd.closest('.output');\n",
       "if (outputEl) {{\n",
       "    x.observe(outputEl, {childList: true});\n",
       "}}\n",
       "\n",
       "                        })\n",
       "                };\n",
       "                });\n",
       "            </script>\n",
       "        </div>"
      ]
     },
     "metadata": {},
     "output_type": "display_data"
    },
    {
     "data": {
      "image/png": "[encoded data removed]",
      "text/plain": [
       "<Figure size 432x288 with 1 Axes>"
      ]
     },
     "metadata": {
      "needs_background": "light"
     },
     "output_type": "display_data"
    }
   ],
   "source": [
    "import plotly.express as px\n",
    "l1 = ['feature set 2', 'combined feature sets']\n",
    "l2 = [.595, .62325]\n",
    "df1 = pd.DataFrame([l1,l2]).T\n",
    "df1.columns = ['type', 'Avg AUC']\n",
    "df1.plot(kind = 'bar', x = 'type', y = 'Avg AUC')\n",
    "fig = px.bar(df1, x=\"type\", y=\"Avg AUC\", text =\"Avg AUC\", log_y=True )\n",
    "fig.show()"
   ]
  },
  {
   "cell_type": "markdown",
   "metadata": {},
   "source": [
    "Average AUC 0.611738770035572 [0.606508305281231, 0.5858649006243626, 0.6428431042011222]"
   ]
  },
  {
   "cell_type": "markdown",
   "metadata": {},
   "source": [
    "### Literature\n",
    "4. Describe literature related to the problem you are studying. If you are using an existing dataset, where\n",
    "did it come from and how was it used? What other similar datasets have been studied in the past and\n",
    "how? What are the state-of-the-art methods currently employed to study this type of data? Are the\n",
    "conclusions from existing work similar to or different from your own findings?"
   ]
  },
  {
   "cell_type": "code",
   "execution_count": 206,
   "metadata": {},
   "outputs": [
    {
     "data": {
      "text/plain": [
       "<matplotlib.axes._subplots.AxesSubplot at 0x7f7adb79c2e8>"
      ]
     },
     "execution_count": 206,
     "metadata": {},
     "output_type": "execute_result"
    },
    {
     "data": {
      "image/png": "[encoded data removed]",
      "text/plain": [
       "<Figure size 432x288 with 1 Axes>"
      ]
     },
     "metadata": {
      "needs_background": "light"
     },
     "output_type": "display_data"
    }
   ],
   "source": [
    "l1 = [1,2,3,4]\n",
    "l2=[.5104,.4932,.4931,.6456]\n",
    "ex = pd.DataFrame([l1,l2]).T\n",
    "ex.columns = ['model', 'Average AUC']\n",
    "ex.plot(kind = 'bar', x = 'model', y = 'Average AUC')"
   ]
  },
  {
   "cell_type": "code",
   "execution_count": 158,
   "metadata": {},
   "outputs": [
    {
     "data": {
      "text/plain": [
       "0.6195192656117888"
      ]
     },
     "execution_count": 158,
     "metadata": {},
     "output_type": "execute_result"
    }
   ],
   "source": [
    "clf_1LV.score(test_features, test_labels)"
   ]
  },
  {
   "cell_type": "code",
   "execution_count": 232,
   "metadata": {},
   "outputs": [
    {
     "data": {
      "text/plain": [
       "0.41382913603459337"
      ]
     },
     "execution_count": 232,
     "metadata": {},
     "output_type": "execute_result"
    }
   ],
   "source": [
    "balanced_accuracy_score(test_labels, clf_1LV.predict(test_features))"
   ]
  },
  {
   "cell_type": "code",
   "execution_count": 176,
   "metadata": {},
   "outputs": [
    {
     "data": {
      "text/plain": [
       "64.27800343318584"
      ]
     },
     "execution_count": 176,
     "metadata": {},
     "output_type": "execute_result"
    }
   ],
   "source": [
    "def func(x):\n",
    "    try:\n",
    "        val = (int(x[0].strip('ft'))*12) + int(x[1].strip('in'))\n",
    "    except:\n",
    "        if 'ft' in x[0]:\n",
    "            val = int(x[0].strip('ft'))*12\n",
    "        else:\n",
    "            val = int(x[0].strip('in'))\n",
    "    return val\n",
    "func(train_data[0]['height'].split())\n",
    "modcloth_shuffled['heights_conv'].mean()"
   ]
  },
  {
   "cell_type": "markdown",
   "metadata": {},
   "source": [
    "### Result\n",
    "5. Describe your results and conclusions. How well does your model perform compared to alternatives,\n",
    "and what is the significance of the results? Which feature representations worked well and which do not?\n",
    "What is the interpretation of your model’s parameters? Why did the proposed model succeed why others\n",
    "failed (or if it failed, why did it fail)?"
   ]
  },
  {
   "cell_type": "code",
   "execution_count": null,
   "metadata": {},
   "outputs": [],
   "source": []
  }
 ],
 "metadata": {
  "kernelspec": {
   "display_name": "Python 3",
   "language": "python",
   "name": "python3"
  },
  "language_info": {
   "codemirror_mode": {
    "name": "ipython",
    "version": 3
   },
   "file_extension": ".py",
   "mimetype": "text/x-python",
   "name": "python",
   "nbconvert_exporter": "python",
   "pygments_lexer": "ipython3",
   "version": "3.6.7"
  }
 },
 "nbformat": 4,
 "nbformat_minor": 2
}
